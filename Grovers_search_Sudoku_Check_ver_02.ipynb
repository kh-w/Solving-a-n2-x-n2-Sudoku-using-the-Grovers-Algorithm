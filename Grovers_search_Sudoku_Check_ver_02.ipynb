{
  "nbformat": 4,
  "nbformat_minor": 0,
  "metadata": {
    "colab": {
      "provenance": [],
      "authorship_tag": "ABX9TyOrPQI69vEIaMIeJcwWKzv8",
      "include_colab_link": true
    },
    "kernelspec": {
      "name": "python3",
      "display_name": "Python 3"
    },
    "language_info": {
      "name": "python"
    }
  },
  "cells": [
    {
      "cell_type": "markdown",
      "metadata": {
        "id": "view-in-github",
        "colab_type": "text"
      },
      "source": [
        "<a href=\"https://colab.research.google.com/github/kh-w/Solving-a-n2-x-n2-Sudoku-using-the-Grovers-Algorithm/blob/main/Grovers_search_Sudoku_Check_ver_02.ipynb\" target=\"_parent\"><img src=\"https://colab.research.google.com/assets/colab-badge.svg\" alt=\"Open In Colab\"/></a>"
      ]
    },
    {
      "cell_type": "code",
      "execution_count": null,
      "metadata": {
        "id": "KuaS2e9Kf4C2"
      },
      "outputs": [],
      "source": [
        "!pip install qiskit qiskit-aer pylatexenc\n",
        "\n",
        "from qiskit import QuantumCircuit, QuantumRegister, AncillaRegister, transpile\n",
        "from qiskit.circuit.library import MCXGate\n",
        "from qiskit.quantum_info import Statevector, Operator\n",
        "from qiskit_aer import AerSimulator, Aer\n",
        "from qiskit.visualization import plot_histogram\n",
        "\n",
        "import numpy as np\n",
        "import matplotlib.pyplot as plt\n",
        "from collections import Counter\n"
      ]
    },
    {
      "cell_type": "code",
      "source": [
        "# Target initial Sudoku (Top 3 rows only)\n",
        "# i_sudoku = ['001110xxxx1011001101xx10'] # correspond to row1:143x row2:x341 row3:42x3 row4:3x24\n",
        "i_sudoku = ['001110xxxx1011001101xx10a'] # correspond to row1:143x row2:x341 row3:42x3 row4:3x24\n",
        "ctrl_qubits_0 = [i for i, c in enumerate(i_sudoku[0]) if c == '0'] # These are zeros in i_sudoku\n",
        "ctrl_qubits_1 = [i for i, c in enumerate(i_sudoku[0]) if c == '1'] # These are ones in i_sudoku\n",
        "\n",
        "n_qubits = len(i_sudoku[0]) - 1\n",
        "n_ancilla = i_sudoku[0].count('a')\n",
        "\n",
        "def grover_oracle():\n",
        "\n",
        "    oracle = QuantumCircuit(n_qubits + n_ancilla)\n",
        "\n",
        "    oracle.barrier()\n",
        "\n",
        "    for i in ctrl_qubits_0:\n",
        "        oracle.x(i)\n",
        "\n",
        "    oracle.mcx(ctrl_qubits_0 + ctrl_qubits_1,\n",
        "               n_qubits - 1 + n_ancilla)\n",
        "\n",
        "    for i in ctrl_qubits_0:\n",
        "        oracle.x(i)\n",
        "\n",
        "    return oracle\n",
        "\n",
        "def diffuser():\n",
        "    qc = QuantumCircuit(n_qubits)\n",
        "    qc.barrier()\n",
        "    qc.barrier()\n",
        "    qc.h(range(n_qubits))\n",
        "    qc.x(range(n_qubits))\n",
        "    qc.h(n_qubits - 1)\n",
        "    qc.mcx(list(range(n_qubits - 1)), n_qubits - 1)\n",
        "    qc.h(n_qubits - 1)\n",
        "    qc.x(range(n_qubits))\n",
        "    qc.h(range(n_qubits))\n",
        "    qc.barrier()\n",
        "    return qc\n",
        "\n",
        "grover = QuantumCircuit(n_qubits + n_ancilla, n_qubits)\n",
        "grover.h(range(n_qubits))\n",
        "\n",
        "N = 2**n_qubits\n",
        "M = len(i_sudoku) * (2**(i_sudoku[0].count('x')))\n",
        "iterations = int(np.floor((np.pi / 4) * np.sqrt(N / M)))\n",
        "print(f\"Grover iterations: {iterations}\")\n",
        "\n",
        "for _ in range(iterations):\n",
        "    grover = grover.compose(grover_oracle())\n",
        "    grover = grover.compose(diffuser())\n",
        "\n",
        "grover.measure(range(n_qubits), range(n_qubits))"
      ],
      "metadata": {
        "id": "HcXGIf0kgPSn"
      },
      "execution_count": null,
      "outputs": []
    },
    {
      "cell_type": "code",
      "source": [
        "M"
      ],
      "metadata": {
        "id": "6-aUk7f0gWDr"
      },
      "execution_count": null,
      "outputs": []
    },
    {
      "cell_type": "code",
      "source": [
        "import time\n",
        "start_time = time.time()\n",
        "\n",
        "backend = Aer.get_backend('aer_simulator')\n",
        "grover_t = transpile(grover, backend)\n",
        "result = backend.run(grover_t, shots=20000).result()\n",
        "counts = result.get_counts()\n",
        "\n",
        "end_time = time.time()\n",
        "print(f\"Elapsed time: {(end_time - start_time)/60:.4f} minutes\")"
      ],
      "metadata": {
        "id": "Bdue44IygXCz"
      },
      "execution_count": null,
      "outputs": []
    },
    {
      "cell_type": "code",
      "source": [
        "sum(counts.values())"
      ],
      "metadata": {
        "id": "RYqNY5ENgW-L"
      },
      "execution_count": null,
      "outputs": []
    },
    {
      "cell_type": "code",
      "source": [
        "most_common = Counter(counts).most_common()\n",
        "top_n = 500\n",
        "print(i_sudoku[0][:-1][::-1])\n",
        "for outcome, count in most_common[:top_n]:\n",
        "    probability = count / sum(counts.values())\n",
        "    print(f\"Outcome: {outcome}, Counts: {count}, Probability: {probability:.4f}\")"
      ],
      "metadata": {
        "id": "Hjlr7YmIgW7o"
      },
      "execution_count": null,
      "outputs": []
    },
    {
      "cell_type": "code",
      "source": [
        "break"
      ],
      "metadata": {
        "id": "0giws1DigW5Q"
      },
      "execution_count": null,
      "outputs": []
    },
    {
      "cell_type": "code",
      "source": [
        "targets =  ['00011011',\n",
        "            '00011110',\n",
        "            '00100111',\n",
        "            '00101101',\n",
        "            '00110110',\n",
        "            '00111001',\n",
        "            '01001011',\n",
        "            '01001110',\n",
        "            '01100011',\n",
        "            '01101100',\n",
        "            '01110010',\n",
        "            '01111000',\n",
        "            '10000111',\n",
        "            '10001101',\n",
        "            '10010011',\n",
        "            '10011100',\n",
        "            '10110001',\n",
        "            '10110100',\n",
        "            '11000110',\n",
        "            '11001001',\n",
        "            '11010010',\n",
        "            '11011000',\n",
        "            '11100001',\n",
        "            '11100100'] # 1234, 1243, ... (24 of such) encoded in binary (left to right)"
      ],
      "metadata": {
        "id": "8l2KRjDHgW2N"
      },
      "execution_count": null,
      "outputs": []
    },
    {
      "cell_type": "code",
      "source": [
        "n_qubits_rowcheck = 8\n",
        "\n",
        "def grover_oracle_rowcheck():\n",
        "    oracle = QuantumCircuit(n_qubits_rowcheck)\n",
        "\n",
        "    for target in targets:\n",
        "        qc = QuantumCircuit(n_qubits_rowcheck)\n",
        "        qc.barrier()\n",
        "        ctrl_qubits = []\n",
        "        for i, bit in enumerate(reversed(target)):\n",
        "            if bit == '0':\n",
        "                qc.x(i)\n",
        "            ctrl_qubits.append(i)\n",
        "\n",
        "        qc.h(n_qubits_rowcheck - 1)\n",
        "        qc.mcx(ctrl_qubits[:-1], ctrl_qubits[-1])\n",
        "        qc.h(n_qubits_rowcheck - 1)\n",
        "\n",
        "        for i, bit in enumerate(reversed(target)):\n",
        "            if bit == '0':\n",
        "                qc.x(i)\n",
        "\n",
        "        oracle = oracle.compose(qc)\n",
        "\n",
        "    return oracle\n",
        "\n",
        "def diffuser_rowcheck():\n",
        "    qc = QuantumCircuit(n_qubits_rowcheck)\n",
        "    qc.barrier()\n",
        "    qc.barrier()\n",
        "    qc.h(range(n_qubits_rowcheck))\n",
        "    qc.x(range(n_qubits_rowcheck))\n",
        "    qc.h(n_qubits_rowcheck - 1)\n",
        "    qc.mcx(list(range(n_qubits_rowcheck - 1)), n_qubits_rowcheck - 1)\n",
        "    qc.h(n_qubits_rowcheck - 1)\n",
        "    qc.x(range(n_qubits_rowcheck))\n",
        "    qc.h(range(n_qubits_rowcheck))\n",
        "    qc.barrier()\n",
        "    return qc\n",
        "\n",
        "\n",
        "grover_rowcheck = QuantumCircuit(n_qubits_rowcheck, n_qubits_rowcheck)\n",
        "grover_rowcheck.h(range(n_qubits_rowcheck))\n",
        "\n",
        "N = 2**n_qubits_rowcheck\n",
        "M = len(targets)\n",
        "iterations = int(np.floor((np.pi / 4) * np.sqrt(N / M)))\n",
        "print(f\"Grover iterations: {iterations}\")\n",
        "\n",
        "oracle_rowcheck = grover_oracle_rowcheck()\n",
        "diff_rowcheck = diffuser_rowcheck()\n",
        "\n",
        "for _ in range(iterations):\n",
        "    grover_rowcheck = grover_rowcheck.compose(oracle_rowcheck)\n",
        "    grover_rowcheck = grover_rowcheck.compose(diff_rowcheck)\n",
        "\n",
        "# sv = Statevector(grover)\n",
        "grover_rowcheck.measure(range(n_qubits_rowcheck), range(n_qubits_rowcheck))\n",
        "\n",
        "grover_rowcheck.draw(output=\"mpl\", style=\"bw\", scale=0.5, fold=-1)"
      ],
      "metadata": {
        "id": "WXkzzF9ZgWzg"
      },
      "execution_count": null,
      "outputs": []
    },
    {
      "cell_type": "code",
      "source": [
        "import time\n",
        "start_time = time.time()\n",
        "\n",
        "backend = Aer.get_backend('aer_simulator')\n",
        "grover_t = transpile(grover_rowcheck, backend)\n",
        "result = backend.run(grover_t, shots=20000).result()\n",
        "counts = result.get_counts()\n",
        "\n",
        "end_time = time.time()\n",
        "print(f\"Elapsed time: {(end_time - start_time)/60:.4f} minutes\")"
      ],
      "metadata": {
        "id": "WgkHB-OxgWw7"
      },
      "execution_count": null,
      "outputs": []
    },
    {
      "cell_type": "code",
      "source": [
        "sum(counts.values())"
      ],
      "metadata": {
        "id": "SMiD6tMZgWt-"
      },
      "execution_count": null,
      "outputs": []
    },
    {
      "cell_type": "code",
      "source": [
        "most_common = Counter(counts).most_common()\n",
        "top_n = 500\n",
        "for outcome, count in most_common[:top_n]:\n",
        "    probability = count / sum(counts.values())\n",
        "    print(f\"Outcome: {outcome}, Counts: {count}, Probability: {probability:.4f}\")"
      ],
      "metadata": {
        "id": "cLV7J5avgWih"
      },
      "execution_count": null,
      "outputs": []
    },
    {
      "cell_type": "markdown",
      "source": [],
      "metadata": {
        "id": "K9_BW8Xyg5sK"
      }
    }
  ]
}