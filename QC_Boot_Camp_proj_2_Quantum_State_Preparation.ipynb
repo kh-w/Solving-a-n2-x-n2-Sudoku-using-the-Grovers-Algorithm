{
  "cells": [
    {
      "cell_type": "markdown",
      "metadata": {
        "id": "view-in-github",
        "colab_type": "text"
      },
      "source": [
        "<a href=\"https://colab.research.google.com/github/kh-w/quantum-computing-bootcamp-erdos/blob/main/QC_Boot_Camp_proj_2_Quantum_State_Preparation.ipynb\" target=\"_parent\"><img src=\"https://colab.research.google.com/assets/colab-badge.svg\" alt=\"Open In Colab\"/></a>"
      ]
    },
    {
      "cell_type": "code",
      "execution_count": null,
      "metadata": {
        "id": "kDthYM-OI5Hq"
      },
      "outputs": [],
      "source": [
        "# Prepare the required packages\n",
        "%%capture\n",
        "!pip install qiskit pylatexenc;\n",
        "!pip install qiskit-aer;\n",
        "from qiskit.circuit import QuantumCircuit, QuantumRegister, AncillaRegister;\n",
        "from qiskit.quantum_info import Statevector, Operator;\n",
        "from qiskit_aer import AerSimulator;\n",
        "from qiskit import transpile;\n",
        "from qiskit.visualization import plot_histogram;\n",
        "import pylatexenc;\n",
        "import matplotlib.pyplot as plt;\n",
        "import numpy as np;\n",
        "from qiskit.circuit.library import RYGate"
      ]
    },
    {
      "cell_type": "markdown",
      "source": [
        "![mini_proj_2_prob_3](https://drive.google.com/uc?id=1Xu7kYVS-crI-6B2owX6AD7acjgkoOxl4)\n",
        "\n"
      ],
      "metadata": {
        "id": "achAEMYGZ5XA"
      }
    },
    {
      "cell_type": "code",
      "source": [
        "# Lecture 8: Quantum Data-access Oracles and Quantum State Preparation\n",
        "# Multiplexer explained from 42:02 to 49:10\n",
        "\n",
        "# Lecture 9: Quantum State Preparation & Quantum Error Correction, part 1.\n",
        "# n=2 explained from 7:52 to 27:03"
      ],
      "metadata": {
        "id": "_S3IDBBeZ1XH"
      },
      "execution_count": null,
      "outputs": []
    },
    {
      "cell_type": "markdown",
      "source": [
        "For $n=3$, we have:\\\n",
        "\\\n",
        "$\\left| \\psi \\right\\rangle=a\\left|000\\right\\rangle+b\\left|001\\right\\rangle+c\\left|010\\right\\rangle+d\\left|011\\right\\rangle+e\\left|100\\right\\rangle+f\\left|101\\right\\rangle+g\\left|110\\right\\rangle+h\\left|111\\right\\rangle$\\\n",
        "\\\n",
        "where $a$ to $h$ are all non-negative, and $||\\psi||^2=a^2+b^2+...+h^2=1$.\\\n",
        "\\\n",
        "Factorize in tensor product sense, note that after factorized, rotations are done by each bit:\\\n",
        "($\\color{black}{\\text{black = firstbit}}$, $\\color{blue}{\\text{blue = secondbit}}$, $\\color{red}{\\text{red = thirdbit}}$)\\\n",
        "\\\n",
        "\\begin{align*}\n",
        "  \\left| \\psi \\right\\rangle&=((a\\left|0\\right\\rangle+e\\left|1\\right\\rangle)\\otimes\\color{blue}{\\left|0\\right\\rangle}+(c\\left|0\\right\\rangle+g\\left|1\\right\\rangle)\\otimes\\color{blue}{\\left|1\\right\\rangle})\\otimes\\color{red}{\\left|0\\right\\rangle}+((b\\left|0\\right\\rangle+f\\left|1\\right\\rangle)\\otimes\\color{blue}{\\left|0\\right\\rangle}+(d\\left|0\\right\\rangle+h\\left|1\\right\\rangle)\\otimes\\color{blue}{\\left|1\\right\\rangle})\\otimes\\color{red}{\\left|1\\right\\rangle}\\\\\n",
        "  &=((\\cos\\bigg(\\frac{\\theta_{100}}{2}\\bigg)\\left|0\\right\\rangle+\\sin\\bigg(\\frac{\\theta_{100}}{2}\\bigg)\\left|1\\right\\rangle)\\otimes\\color{blue}{\\cos\\bigg(\\frac{\\theta_{10}}{2}\\bigg)\\left|0\\right\\rangle}+\\\\\n",
        "  &\\hspace{1cm}(\\cos\\bigg(\\frac{\\theta_{110}}{2}\\bigg)\\left|0\\right\\rangle+\\sin\\bigg(\\frac{\\theta_{110}}{2}\\bigg)\\left|1\\right\\rangle)\\otimes\\color{blue}{\\sin\\bigg(\\frac{\\theta_{10}}{2}\\bigg)\\left|1\\right\\rangle})\\otimes\\color{red}{\\cos\\bigg(\\frac{\\theta_{0}}{2}\\bigg)\\left|0\\right\\rangle}+\\\\\n",
        "  &\\hspace{1cm}((\\cos\\bigg(\\frac{\\theta_{101}}{2}\\bigg)\\left|0\\right\\rangle+\\sin\\bigg(\\frac{\\theta_{101}}{2}\\bigg)\\left|1\\right\\rangle)\\otimes\\color{blue}{\\cos\\bigg(\\frac{\\theta_{11}}{2}\\bigg)\\left|0\\right\\rangle}+\\\\\n",
        "  &\\hspace{1cm}(\\cos\\bigg(\\frac{\\theta_{111}}{2}\\bigg)\\left|0\\right\\rangle+\\sin\\bigg(\\frac{\\theta_{111}}{2}\\bigg)\\left|1\\right\\rangle)\\otimes\\color{blue}{\\sin\\bigg(\\frac{\\theta_{11}}{2}\\bigg)\\left|1\\right\\rangle})\\otimes\\color{red}{\\sin\\bigg(\\frac{\\theta_{0}}{2}\\bigg)\\left|1\\right\\rangle}\\\\\n",
        "  &=\\color{red}{\\cos\\bigg(\\frac{\\theta_{0}}{2}\\bigg)}\\color{blue}{\\cos\\bigg(\\frac{\\theta_{10}}{2}\\bigg)}\\color{black}{\\cos\\bigg(\\frac{\\theta_{100}}{2}\\bigg)}\\left|000\\right\\rangle+\\\\\n",
        "  &\\hspace{1cm}\\color{red}{\\cos\\bigg(\\frac{\\theta_{0}}{2}\\bigg)}\\color{blue}{\\cos\\bigg(\\frac{\\theta_{10}}{2}\\bigg)}\\color{black}{\\sin\\bigg(\\frac{\\theta_{100}}{2}\\bigg)}\\left|100\\right\\rangle+\\\\\n",
        "  &\\hspace{1cm}\\color{red}{\\cos\\bigg(\\frac{\\theta_{0}}{2}\\bigg)}\\color{blue}{\\sin\\bigg(\\frac{\\theta_{10}}{2}\\bigg)}\\color{black}{\\cos\\bigg(\\frac{\\theta_{110}}{2}\\bigg)}\\left|010\\right\\rangle+\\\\\n",
        "  &\\hspace{1cm}\\color{red}{\\cos\\bigg(\\frac{\\theta_{0}}{2}\\bigg)}\\color{blue}{\\sin\\bigg(\\frac{\\theta_{10}}{2}\\bigg)}\\color{black}{\\sin\\bigg(\\frac{\\theta_{110}}{2}\\bigg)}\\left|110\\right\\rangle+\\\\\n",
        "  &\\hspace{1cm}\\color{red}{\\sin\\bigg(\\frac{\\theta_{0}}{2}\\bigg)}\\color{blue}{\\cos\\bigg(\\frac{\\theta_{11}}{2}\\bigg)}\\color{black}{\\cos\\bigg(\\frac{\\theta_{101}}{2}\\bigg)}\\left|001\\right\\rangle+\\\\\n",
        "  &\\hspace{1cm}\\color{red}{\\sin\\bigg(\\frac{\\theta_{0}}{2}\\bigg)}\\color{blue}{\\cos\\bigg(\\frac{\\theta_{11}}{2}\\bigg)}\\color{black}{\\sin\\bigg(\\frac{\\theta_{101}}{2}\\bigg)}\\left|101\\right\\rangle+\\\\\n",
        "  &\\hspace{1cm}\\color{red}{\\sin\\bigg(\\frac{\\theta_{0}}{2}\\bigg)}\\color{blue}{\\sin\\bigg(\\frac{\\theta_{11}}{2}\\bigg)}\\color{black}{\\cos\\bigg(\\frac{\\theta_{111}}{2}\\bigg)}\\left|011\\right\\rangle+\\\\\n",
        "  &\\hspace{1cm}\\color{red}{\\sin\\bigg(\\frac{\\theta_{0}}{2}\\bigg)}\\color{blue}{\\sin\\bigg(\\frac{\\theta_{11}}{2}\\bigg)}\\color{black}{\\sin\\bigg(\\frac{\\theta_{111}}{2}\\bigg)}\\left|111\\right\\rangle+\\\\\n",
        "\\end{align*}\n",
        "\n"
      ],
      "metadata": {
        "id": "oMXfqZ52eC-G"
      }
    },
    {
      "cell_type": "markdown",
      "source": [
        "Looking at the basis states, we can see that $R_y(\\theta_{100})$ is applied to the first bit (top wire) when the second and third bits are $00$, $R_y(\\theta_{110})$ is applied when the second and third bits are $10$, $R_y(\\theta_{101})$ is applied when the second and third bits are $01$, $R_y(\\theta_{111})$ is applied when the second and third bits are $11$; then, $R_y(\\theta_{10})$ is applied to the second bit (middle wire) when the third bit is $0$, $R_y(\\theta_{11})$ is applied when the third bit is $1$; finally, $R_y(\\theta_0)$ is applied to the last bit. Therefore a quantum gate can be constructed by using quantum multiplexers, with the $\\theta$s defined below satisfying $\\sin^2\\theta+\\cos^2\\theta=1$ and $||\\psi||^2=a^2+b^2+...+h^2=1$:"
      ],
      "metadata": {
        "id": "fUpo7fc7nyv_"
      }
    },
    {
      "cell_type": "markdown",
      "source": [
        "\n",
        "Table A:\n",
        "$$\\begin{array}{|c|c|c|} \\hline\n",
        "\\cos(\\frac{\\theta_0}{2})=\\sqrt{a^2+b^2+c^2+d^2} & \\cos(\\frac{\\theta_{10}}{2})=\\frac{\\sqrt{a^2+b^2}}{\\sqrt{a^2+b^2+c^2+d^2}} & \\cos(\\frac{\\theta_{100}}{2})=\\frac{a}{\\sqrt{a^2+b^2}} \\\\ \\hline\n",
        "\\text{same as above} & \\text{same as above} & \\sin(\\frac{\\theta_{100}}{2})=\\frac{b}{\\sqrt{a^2+b^2}} \\\\ \\hline\n",
        "\\text{same as above} & \\sin(\\frac{\\theta_{10}}{2})=\\frac{\\sqrt{c^2+d^2}}{\\sqrt{a^2+b^2+c^2+d^2}} & \\cos(\\frac{\\theta_{110}}{2})=\\frac{c}{\\sqrt{c^2+d^2}} \\\\ \\hline\n",
        "\\text{same as above} & \\text{same as above} & \\sin(\\frac{\\theta_{110}}{2})=\\frac{d}{\\sqrt{c^2+d^2}} \\\\ \\hline\n",
        "\\sin(\\frac{\\theta_0}{2})=\\sqrt{e^2+f^2+g^2+h^2} & \\cos(\\frac{\\theta_{11}}{2})=\\frac{\\sqrt{e^2+f^2}}{\\sqrt{e^2+f^2+g^2+h^2}} & \\cos(\\frac{\\theta_{101}}{2})=\\frac{e}{\\sqrt{e^2+f^2}} \\\\ \\hline\n",
        "\\text{same as above} & \\text{same as above} & \\sin(\\frac{\\theta_{101}}{2})=\\frac{f}{\\sqrt{e^2+f^2}} \\\\ \\hline\n",
        "\\text{same as above} & \\sin(\\frac{\\theta_{11}}{2})=\\frac{\\sqrt{g^2+h^2}}{\\sqrt{e^2+f^2+g^2+h^2}} & \\cos(\\frac{\\theta_{111}}{2})=\\frac{g}{\\sqrt{g^2+h^2}} \\\\ \\hline\n",
        "\\text{same as above} & \\text{same as above} & \\sin(\\frac{\\theta_{111}}{2})=\\frac{h}{\\sqrt{g^2+h^2}} \\\\ \\hline\n",
        "\\end{array}$$"
      ],
      "metadata": {
        "id": "l6npxYcFrq1C"
      }
    },
    {
      "cell_type": "markdown",
      "source": [
        "Suppose we are going to prepare a fixed state generated randomly:"
      ],
      "metadata": {
        "id": "Ii_jEEkAvUIT"
      }
    },
    {
      "cell_type": "code",
      "source": [
        "import random\n",
        "\n",
        "random.seed(1)\n",
        "\n",
        "random_numbers = [random.randint(1, 100) for _ in range(8)]\n",
        "\n",
        "psi = random_numbers / np.sqrt(np.dot(random_numbers, random_numbers))\n",
        "\n",
        "np.linalg.norm(psi) # check the norm"
      ],
      "metadata": {
        "colab": {
          "base_uri": "https://localhost:8080/"
        },
        "id": "lHikdbl7wO4u",
        "outputId": "ee77eeef-dc55-4ebf-c581-82076788a660"
      },
      "execution_count": null,
      "outputs": [
        {
          "output_type": "execute_result",
          "data": {
            "text/plain": [
              "np.float64(1.0)"
            ]
          },
          "metadata": {},
          "execution_count": 3
        }
      ]
    },
    {
      "cell_type": "code",
      "source": [
        "theta_0 = 2 * np.arccos(np.sqrt(np.sum(np.square(psi[:4]))))\n",
        "theta_10 = 2 * np.arccos(np.sqrt(np.sum(np.square(psi[:2]))) / np.sqrt(np.sum(np.square(psi[:4]))))\n",
        "theta_11 = 2 * np.arccos(np.sqrt(np.sum(np.square(psi[4:6]))) / np.sqrt(np.sum(np.square(psi[4:8]))))\n",
        "theta_100 = 2 * np.arccos(psi[0] / np.sqrt(np.sum(np.square(psi[:2]))))\n",
        "theta_110 = 2 * np.arccos(psi[2] / np.sqrt(np.sum(np.square(psi[2:4]))))\n",
        "theta_101 = 2 * np.arccos(psi[4] / np.sqrt(np.sum(np.square(psi[4:6]))))\n",
        "theta_111 = 2 * np.arccos(psi[6] / np.sqrt(np.sum(np.square(psi[6:8]))))"
      ],
      "metadata": {
        "id": "PVq0ZspsZ2Vh"
      },
      "execution_count": null,
      "outputs": []
    },
    {
      "cell_type": "code",
      "source": [
        "quantum_register = QuantumRegister(size=3, name=\"x\")\n",
        "\n",
        "qsp_circ = QuantumCircuit(quantum_register, name=\"Quantum State Preparation\")\n",
        "\n",
        "qsp_circ.ry(theta_0, quantum_register[2])\n",
        "\n",
        "qsp_circ.barrier()\n",
        "\n",
        "qsp_circ.x(quantum_register[2])\n",
        "qsp_circ.cry(theta_10, quantum_register[2], quantum_register[1])\n",
        "qsp_circ.x(quantum_register[2])\n",
        "\n",
        "qsp_circ.barrier()\n",
        "\n",
        "qsp_circ.cry(theta_11, quantum_register[2], quantum_register[1])\n",
        "\n",
        "qsp_circ.barrier()\n",
        "\n",
        "qsp_circ.x(quantum_register[1])\n",
        "qsp_circ.x(quantum_register[2])\n",
        "mcry = RYGate(theta_100).control(2)\n",
        "qsp_circ.append(mcry, [quantum_register[1], quantum_register[2], quantum_register[0]])\n",
        "qsp_circ.x(quantum_register[2])\n",
        "qsp_circ.x(quantum_register[1])\n",
        "\n",
        "qsp_circ.barrier()\n",
        "\n",
        "qsp_circ.x(quantum_register[2])\n",
        "mcry = RYGate(theta_110).control(2)\n",
        "qsp_circ.append(mcry, [quantum_register[1], quantum_register[2], quantum_register[0]])\n",
        "qsp_circ.x(quantum_register[2])\n",
        "\n",
        "qsp_circ.barrier()\n",
        "\n",
        "qsp_circ.x(quantum_register[1])\n",
        "mcry = RYGate(theta_101).control(2)\n",
        "qsp_circ.append(mcry, [quantum_register[1], quantum_register[2], quantum_register[0]])\n",
        "qsp_circ.x(quantum_register[1])\n",
        "\n",
        "qsp_circ.barrier()\n",
        "\n",
        "mcry = RYGate(theta_111).control(2)\n",
        "qsp_circ.append(mcry, [quantum_register[1], quantum_register[2], quantum_register[0]])\n",
        "\n",
        "qsp_circ.barrier()\n",
        "\n",
        "qsp_circ.draw(output=\"mpl\")"
      ],
      "metadata": {
        "id": "7ZfhX2YKZ2S6",
        "colab": {
          "base_uri": "https://localhost:8080/",
          "height": 255
        },
        "outputId": "fcef306f-c61f-444f-d0c9-c6d7ec19db53"
      },
      "execution_count": null,
      "outputs": [
        {
          "output_type": "execute_result",
          "data": {
            "text/plain": [
              "<Figure size 1958.52x284.278 with 1 Axes>"
            ],
            "image/png": "[encoded data removed]"
          },
          "metadata": {},
          "execution_count": 5
        }
      ]
    },
    {
      "cell_type": "code",
      "source": [
        "psi_new = Statevector(qsp_circ).data"
      ],
      "metadata": {
        "id": "r0WPCAzMZ2QG"
      },
      "execution_count": null,
      "outputs": []
    },
    {
      "cell_type": "code",
      "source": [
        "# Check the answer\n",
        "\n",
        "np.round(np.real(psi_new) - psi, 0)"
      ],
      "metadata": {
        "id": "BwuYRRrFZ2N9",
        "colab": {
          "base_uri": "https://localhost:8080/"
        },
        "outputId": "a5f694a3-ed4a-4d5c-89c8-6760a350365b"
      },
      "execution_count": null,
      "outputs": [
        {
          "output_type": "execute_result",
          "data": {
            "text/plain": [
              "array([-0.,  0.,  0.,  0.,  0.,  0.,  0.,  0.])"
            ]
          },
          "metadata": {},
          "execution_count": 7
        }
      ]
    },
    {
      "cell_type": "markdown",
      "source": [
        "Table A above can be extended easily when $n=4$:\\\n",
        "\\\n",
        "Table B ($n=4$), where only first row is given to demonstrate, other rows are easy to find:\n",
        "\\\n",
        "\\\n",
        "![n_equals_4](https://drive.google.com/uc?id=1oToStd8b5iZq6RhwlEky_G91JA2POcFI)\n"
      ],
      "metadata": {
        "id": "YxG4uyMKAYPA"
      }
    },
    {
      "cell_type": "code",
      "source": [
        "import random\n",
        "\n",
        "random.seed(1)\n",
        "\n",
        "random_numbers = [random.randint(1, 100) for _ in range(16)]\n",
        "\n",
        "psi = random_numbers / np.sqrt(np.dot(random_numbers, random_numbers))\n",
        "\n",
        "np.linalg.norm(psi) # check the norm"
      ],
      "metadata": {
        "id": "jaMA306TZ2LM",
        "colab": {
          "base_uri": "https://localhost:8080/"
        },
        "outputId": "1a5e4e3d-e58c-4dd9-8aa4-8ac328cc2ada"
      },
      "execution_count": 19,
      "outputs": [
        {
          "output_type": "execute_result",
          "data": {
            "text/plain": [
              "np.float64(0.9999999999999999)"
            ]
          },
          "metadata": {},
          "execution_count": 19
        }
      ]
    },
    {
      "cell_type": "code",
      "source": [
        "theta_0 = 2 * np.arccos(np.sqrt(np.sum(np.square(psi[:8]))))\n",
        "theta_10 = 2 * np.arccos(np.sqrt(np.sum(np.square(psi[:4]))) / np.sqrt(np.sum(np.square(psi[:8]))))\n",
        "theta_11 = 2 * np.arccos(np.sqrt(np.sum(np.square(psi[8:12]))) / np.sqrt(np.sum(np.square(psi[8:16]))))\n",
        "theta_100 = 2 * np.arccos(np.sqrt(np.sum(np.square(psi[:2]))) / np.sqrt(np.sum(np.square(psi[:4]))))\n",
        "theta_110 = 2 * np.arccos(np.sqrt(np.sum(np.square(psi[4:6]))) / np.sqrt(np.sum(np.square(psi[4:8]))))\n",
        "theta_101 = 2 * np.arccos(np.sqrt(np.sum(np.square(psi[8:10]))) / np.sqrt(np.sum(np.square(psi[8:12]))))\n",
        "theta_111 = 2 * np.arccos(np.sqrt(np.sum(np.square(psi[12:14]))) / np.sqrt(np.sum(np.square(psi[12:16]))))\n",
        "theta_1000 = 2 * np.arccos(psi[0] / np.sqrt(np.sum(np.square(psi[:2]))))\n",
        "theta_1100 = 2 * np.arccos(psi[2] / np.sqrt(np.sum(np.square(psi[2:4]))))\n",
        "theta_1010 = 2 * np.arccos(psi[4] / np.sqrt(np.sum(np.square(psi[4:6]))))\n",
        "theta_1110 = 2 * np.arccos(psi[6] / np.sqrt(np.sum(np.square(psi[6:8]))))\n",
        "theta_1001 = 2 * np.arccos(psi[8] / np.sqrt(np.sum(np.square(psi[8:10]))))\n",
        "theta_1101 = 2 * np.arccos(psi[10] / np.sqrt(np.sum(np.square(psi[10:12]))))\n",
        "theta_1011 = 2 * np.arccos(psi[12] / np.sqrt(np.sum(np.square(psi[12:14]))))\n",
        "theta_1111 = 2 * np.arccos(psi[14] / np.sqrt(np.sum(np.square(psi[14:16]))))"
      ],
      "metadata": {
        "id": "7WzH06ArZ2IN"
      },
      "execution_count": 9,
      "outputs": []
    },
    {
      "cell_type": "code",
      "source": [
        "quantum_register = QuantumRegister(size=4, name=\"x\")\n",
        "\n",
        "qsp_circ = QuantumCircuit(quantum_register, name=\"Quantum State Preparation\")\n",
        "\n",
        "qsp_circ.ry(theta_0, quantum_register[3])\n",
        "\n",
        "qsp_circ.barrier()\n",
        "\n",
        "qsp_circ.x(quantum_register[3])\n",
        "qsp_circ.cry(theta_10, quantum_register[3], quantum_register[2])\n",
        "qsp_circ.x(quantum_register[3])\n",
        "\n",
        "qsp_circ.barrier()\n",
        "\n",
        "qsp_circ.cry(theta_11, quantum_register[3], quantum_register[2])\n",
        "\n",
        "qsp_circ.barrier()\n",
        "\n",
        "qsp_circ.x(quantum_register[2])\n",
        "qsp_circ.x(quantum_register[3])\n",
        "mcry = RYGate(theta_100).control(2)\n",
        "qsp_circ.append(mcry, [quantum_register[2], quantum_register[3], quantum_register[1]])\n",
        "qsp_circ.x(quantum_register[3])\n",
        "qsp_circ.x(quantum_register[2])\n",
        "\n",
        "qsp_circ.barrier()\n",
        "\n",
        "qsp_circ.x(quantum_register[3])\n",
        "mcry = RYGate(theta_110).control(2)\n",
        "qsp_circ.append(mcry, [quantum_register[2], quantum_register[3], quantum_register[1]])\n",
        "qsp_circ.x(quantum_register[3])\n",
        "\n",
        "qsp_circ.barrier()\n",
        "\n",
        "qsp_circ.x(quantum_register[2])\n",
        "mcry = RYGate(theta_101).control(2)\n",
        "qsp_circ.append(mcry, [quantum_register[2], quantum_register[3], quantum_register[1]])\n",
        "qsp_circ.x(quantum_register[2])\n",
        "\n",
        "qsp_circ.barrier()\n",
        "\n",
        "mcry = RYGate(theta_111).control(2)\n",
        "qsp_circ.append(mcry, [quantum_register[2], quantum_register[3], quantum_register[1]])\n",
        "\n",
        "qsp_circ.barrier()\n",
        "\n",
        "qsp_circ.x(quantum_register[1])\n",
        "qsp_circ.x(quantum_register[2])\n",
        "qsp_circ.x(quantum_register[3])\n",
        "mcry = RYGate(theta_1000).control(3)\n",
        "qsp_circ.append(mcry, [quantum_register[1], quantum_register[2], quantum_register[3], quantum_register[0]])\n",
        "qsp_circ.x(quantum_register[3])\n",
        "qsp_circ.x(quantum_register[2])\n",
        "qsp_circ.x(quantum_register[1])\n",
        "\n",
        "qsp_circ.barrier()\n",
        "\n",
        "qsp_circ.x(quantum_register[2])\n",
        "qsp_circ.x(quantum_register[3])\n",
        "mcry = RYGate(theta_1100).control(3)\n",
        "qsp_circ.append(mcry, [quantum_register[1], quantum_register[2], quantum_register[3], quantum_register[0]])\n",
        "qsp_circ.x(quantum_register[3])\n",
        "qsp_circ.x(quantum_register[2])\n",
        "\n",
        "qsp_circ.barrier()\n",
        "\n",
        "qsp_circ.x(quantum_register[1])\n",
        "qsp_circ.x(quantum_register[3])\n",
        "mcry = RYGate(theta_1010).control(3)\n",
        "qsp_circ.append(mcry, [quantum_register[1], quantum_register[2], quantum_register[3], quantum_register[0]])\n",
        "qsp_circ.x(quantum_register[3])\n",
        "qsp_circ.x(quantum_register[1])\n",
        "\n",
        "qsp_circ.barrier()\n",
        "\n",
        "qsp_circ.x(quantum_register[3])\n",
        "mcry = RYGate(theta_1110).control(3)\n",
        "qsp_circ.append(mcry, [quantum_register[1], quantum_register[2], quantum_register[3], quantum_register[0]])\n",
        "qsp_circ.x(quantum_register[3])\n",
        "\n",
        "qsp_circ.barrier()\n",
        "\n",
        "qsp_circ.x(quantum_register[1])\n",
        "qsp_circ.x(quantum_register[2])\n",
        "mcry = RYGate(theta_1001).control(3)\n",
        "qsp_circ.append(mcry, [quantum_register[1], quantum_register[2], quantum_register[3], quantum_register[0]])\n",
        "qsp_circ.x(quantum_register[2])\n",
        "qsp_circ.x(quantum_register[1])\n",
        "\n",
        "qsp_circ.barrier()\n",
        "\n",
        "qsp_circ.x(quantum_register[2])\n",
        "mcry = RYGate(theta_1101).control(3)\n",
        "qsp_circ.append(mcry, [quantum_register[1], quantum_register[2], quantum_register[3], quantum_register[0]])\n",
        "qsp_circ.x(quantum_register[2])\n",
        "\n",
        "qsp_circ.barrier()\n",
        "\n",
        "qsp_circ.x(quantum_register[1])\n",
        "mcry = RYGate(theta_1011).control(3)\n",
        "qsp_circ.append(mcry, [quantum_register[1], quantum_register[2], quantum_register[3], quantum_register[0]])\n",
        "qsp_circ.x(quantum_register[1])\n",
        "\n",
        "qsp_circ.barrier()\n",
        "\n",
        "mcry = RYGate(theta_1111).control(3)\n",
        "qsp_circ.append(mcry, [quantum_register[1], quantum_register[2], quantum_register[3], quantum_register[0]])\n",
        "\n",
        "qsp_circ.barrier()\n",
        "\n",
        "qsp_circ.draw(output=\"mpl\", scale=0.5, fold=False)"
      ],
      "metadata": {
        "id": "kU4xuob4Z2FR",
        "colab": {
          "base_uri": "https://localhost:8080/",
          "height": 178
        },
        "outputId": "47f27ef5-d71b-4aa8-d836-b7b4f7c731df"
      },
      "execution_count": 17,
      "outputs": [
        {
          "output_type": "execute_result",
          "data": {
            "text/plain": [
              "<Figure size 2233.42x183.944 with 1 Axes>"
            ],
            "image/png": "[encoded data removed]"
          },
          "metadata": {},
          "execution_count": 17
        }
      ]
    },
    {
      "cell_type": "code",
      "source": [
        "psi_new = Statevector(qsp_circ).data"
      ],
      "metadata": {
        "id": "JbKtdbQxZ2Cf"
      },
      "execution_count": 20,
      "outputs": []
    },
    {
      "cell_type": "code",
      "source": [
        "# Check the answer\n",
        "\n",
        "np.round(np.real(psi_new) - psi, 0)"
      ],
      "metadata": {
        "id": "YcId2q2nZ1_o",
        "colab": {
          "base_uri": "https://localhost:8080/"
        },
        "outputId": "b9d00566-98f6-4b9f-a29a-ab94b04501f2"
      },
      "execution_count": 21,
      "outputs": [
        {
          "output_type": "execute_result",
          "data": {
            "text/plain": [
              "array([ 0.,  0.,  0.,  0.,  0.,  0.,  0.,  0.,  0.,  0., -0., -0., -0.,\n",
              "       -0., -0., -0.])"
            ]
          },
          "metadata": {},
          "execution_count": 21
        }
      ]
    },
    {
      "cell_type": "code",
      "source": [],
      "metadata": {
        "id": "NZBPCw6yZ16P"
      },
      "execution_count": null,
      "outputs": []
    }
  ],
  "metadata": {
    "colab": {
      "provenance": [],
      "include_colab_link": true
    },
    "kernelspec": {
      "display_name": "akos",
      "language": "python",
      "name": "python3"
    },
    "language_info": {
      "codemirror_mode": {
        "name": "ipython",
        "version": 3
      },
      "file_extension": ".py",
      "mimetype": "text/x-python",
      "name": "python",
      "nbconvert_exporter": "python",
      "pygments_lexer": "ipython3",
      "version": "3.13.3"
    }
  },
  "nbformat": 4,
  "nbformat_minor": 0
}