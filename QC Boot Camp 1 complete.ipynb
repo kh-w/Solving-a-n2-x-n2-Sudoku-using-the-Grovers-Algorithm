{
  "cells": [
    {
      "cell_type": "markdown",
      "metadata": {
        "id": "view-in-github",
        "colab_type": "text"
      },
      "source": [
        "<a href=\"https://colab.research.google.com/github/kh-w/quantum-computing-bootcamp-erdos/blob/main/QC%20Boot%20Camp%201%20complete.ipynb\" target=\"_parent\"><img src=\"https://colab.research.google.com/assets/colab-badge.svg\" alt=\"Open In Colab\"/></a>"
      ]
    },
    {
      "cell_type": "code",
      "execution_count": 1,
      "metadata": {
        "colab": {
          "base_uri": "https://localhost:8080/"
        },
        "id": "IHbn3KRMIzkD",
        "outputId": "52ee3d52-5424-45da-d65f-174223d9ffcb"
      },
      "outputs": [
        {
          "output_type": "stream",
          "name": "stdout",
          "text": [
            "Requirement already satisfied: qiskit in /usr/local/lib/python3.11/dist-packages (2.0.1)\n",
            "Requirement already satisfied: rustworkx>=0.15.0 in /usr/local/lib/python3.11/dist-packages (from qiskit) (0.16.0)\n",
            "Requirement already satisfied: numpy<3,>=1.17 in /usr/local/lib/python3.11/dist-packages (from qiskit) (2.0.2)\n",
            "Requirement already satisfied: scipy>=1.5 in /usr/local/lib/python3.11/dist-packages (from qiskit) (1.15.3)\n",
            "Requirement already satisfied: sympy>=1.3 in /usr/local/lib/python3.11/dist-packages (from qiskit) (1.13.1)\n",
            "Requirement already satisfied: dill>=0.3 in /usr/local/lib/python3.11/dist-packages (from qiskit) (0.3.7)\n",
            "Requirement already satisfied: python-dateutil>=2.8.0 in /usr/local/lib/python3.11/dist-packages (from qiskit) (2.9.0.post0)\n",
            "Requirement already satisfied: stevedore>=3.0.0 in /usr/local/lib/python3.11/dist-packages (from qiskit) (5.4.1)\n",
            "Requirement already satisfied: typing-extensions in /usr/local/lib/python3.11/dist-packages (from qiskit) (4.13.2)\n",
            "Requirement already satisfied: symengine<0.14,>=0.11 in /usr/local/lib/python3.11/dist-packages (from qiskit) (0.13.0)\n",
            "Requirement already satisfied: six>=1.5 in /usr/local/lib/python3.11/dist-packages (from python-dateutil>=2.8.0->qiskit) (1.17.0)\n",
            "Requirement already satisfied: pbr>=2.0.0 in /usr/local/lib/python3.11/dist-packages (from stevedore>=3.0.0->qiskit) (6.1.1)\n",
            "Requirement already satisfied: mpmath<1.4,>=1.1.0 in /usr/local/lib/python3.11/dist-packages (from sympy>=1.3->qiskit) (1.3.0)\n",
            "Requirement already satisfied: setuptools in /usr/local/lib/python3.11/dist-packages (from pbr>=2.0.0->stevedore>=3.0.0->qiskit) (75.2.0)\n",
            "Requirement already satisfied: numpy in /usr/local/lib/python3.11/dist-packages (2.0.2)\n",
            "Requirement already satisfied: pylatexenc in /usr/local/lib/python3.11/dist-packages (2.10)\n",
            "Requirement already satisfied: Matplotlib in /usr/local/lib/python3.11/dist-packages (3.10.0)\n",
            "Requirement already satisfied: contourpy>=1.0.1 in /usr/local/lib/python3.11/dist-packages (from Matplotlib) (1.3.2)\n",
            "Requirement already satisfied: cycler>=0.10 in /usr/local/lib/python3.11/dist-packages (from Matplotlib) (0.12.1)\n",
            "Requirement already satisfied: fonttools>=4.22.0 in /usr/local/lib/python3.11/dist-packages (from Matplotlib) (4.58.0)\n",
            "Requirement already satisfied: kiwisolver>=1.3.1 in /usr/local/lib/python3.11/dist-packages (from Matplotlib) (1.4.8)\n",
            "Requirement already satisfied: numpy>=1.23 in /usr/local/lib/python3.11/dist-packages (from Matplotlib) (2.0.2)\n",
            "Requirement already satisfied: packaging>=20.0 in /usr/local/lib/python3.11/dist-packages (from Matplotlib) (24.2)\n",
            "Requirement already satisfied: pillow>=8 in /usr/local/lib/python3.11/dist-packages (from Matplotlib) (11.2.1)\n",
            "Requirement already satisfied: pyparsing>=2.3.1 in /usr/local/lib/python3.11/dist-packages (from Matplotlib) (3.2.3)\n",
            "Requirement already satisfied: python-dateutil>=2.7 in /usr/local/lib/python3.11/dist-packages (from Matplotlib) (2.9.0.post0)\n",
            "Requirement already satisfied: six>=1.5 in /usr/local/lib/python3.11/dist-packages (from python-dateutil>=2.7->Matplotlib) (1.17.0)\n"
          ]
        }
      ],
      "source": [
        "!pip install qiskit\n",
        "%pip install numpy\n",
        "!pip install pylatexenc\n",
        "%pip install Matplotlib\n"
      ]
    },
    {
      "cell_type": "code",
      "execution_count": 2,
      "metadata": {
        "id": "kDthYM-OI5Hq"
      },
      "outputs": [],
      "source": [
        "from qiskit.circuit import QuantumCircuit, QuantumRegister, AncillaRegister, Parameter\n",
        "from qiskit.quantum_info import Statevector, Operator\n",
        "import pylatexenc\n",
        "import matplotlib\n",
        "import numpy as np"
      ]
    },
    {
      "cell_type": "markdown",
      "metadata": {
        "id": "wM27G2ZcFRfb"
      },
      "source": [
        "# Let's start with a simple circuit:\n",
        "\n",
        "it has 2 + 1 qubits; the 3rd is considered an \"ancilla\" (that is, auxiliary) qubit"
      ]
    },
    {
      "cell_type": "code",
      "execution_count": 3,
      "metadata": {
        "id": "ZjHcm1fsI9qq"
      },
      "outputs": [],
      "source": [
        "quantum_register = QuantumRegister(size=2, name=\"x\") # https://docs.quantum.ibm.com/api/qiskit/0.40/qiskit.circuit.QuantumRegister\n",
        "ancilla_register = AncillaRegister(size=1, name=\"a\") # same as a QuantumRegister, its purpose is only for bookkeeping\n",
        "\n",
        "quantum_circuit = QuantumCircuit(quantum_register, ancilla_register, name=\"exmaple circuit\") # https://docs.quantum.ibm.com/api/qiskit/0.40/qiskit.circuit.QuantumCircuit"
      ]
    },
    {
      "cell_type": "code",
      "execution_count": 4,
      "metadata": {
        "colab": {
          "base_uri": "https://localhost:8080/",
          "height": 255
        },
        "id": "vyTjDbSO-9AA",
        "outputId": "82f559ad-62f4-4ef8-cbe3-6a8ecf2cbc98"
      },
      "outputs": [
        {
          "output_type": "execute_result",
          "data": {
            "text/plain": [
              "<Figure size 160.676x284.278 with 1 Axes>"
            ],
            "image/png": "[encoded data removed]"
          },
          "metadata": {},
          "execution_count": 4
        }
      ],
      "source": [
        "# draw the empty circuit\n",
        "quantum_circuit.draw(output=\"mpl\", style=\"bw\")"
      ]
    },
    {
      "cell_type": "code",
      "execution_count": 5,
      "metadata": {
        "colab": {
          "base_uri": "https://localhost:8080/",
          "height": 37
        },
        "id": "lG84UtJg-9AC",
        "outputId": "1ec46f76-f3fa-4de6-fcd5-6896298cab07"
      },
      "outputs": [
        {
          "output_type": "execute_result",
          "data": {
            "text/plain": [
              "<IPython.core.display.Latex object>"
            ],
            "text/latex": "$$ |000\\rangle$$"
          },
          "metadata": {},
          "execution_count": 5
        }
      ],
      "source": [
        "# initial state\n",
        "Statevector(quantum_circuit).draw(\"Latex\")"
      ]
    },
    {
      "cell_type": "markdown",
      "metadata": {
        "id": "qwwwhSxTFRfd"
      },
      "source": [
        "### Let's add a few gates:\n",
        "\n",
        "(What these gates are and what they do will be explained later.)"
      ]
    },
    {
      "cell_type": "code",
      "execution_count": 6,
      "metadata": {
        "colab": {
          "base_uri": "https://localhost:8080/"
        },
        "id": "0CWaxX01FRfd",
        "outputId": "f4bdc6c7-7afb-43d7-862e-47a89b58f691"
      },
      "outputs": [
        {
          "output_type": "execute_result",
          "data": {
            "text/plain": [
              "<qiskit.circuit.instructionset.InstructionSet at 0x7cbae9a09a80>"
            ]
          },
          "metadata": {},
          "execution_count": 6
        }
      ],
      "source": [
        "quantum_circuit.h(quantum_register[0])\n",
        "quantum_circuit.cx(quantum_register[0], quantum_register[1])\n",
        "quantum_circuit.cx(quantum_register[1], ancilla_register[0])\n",
        "\n",
        "# # equivalently, use indices\n",
        "# quantum_circuit.h(0)\n",
        "# quantum_circuit.cx(0, 1)\n",
        "# quantum_circuit.cx(1, 2)"
      ]
    },
    {
      "cell_type": "markdown",
      "metadata": {
        "id": "HQIffcVxFRfe"
      },
      "source": [
        "### You can plot the circuit:\n",
        "(output and style are set to my preferred ones, but there are other options)"
      ]
    },
    {
      "cell_type": "code",
      "execution_count": 7,
      "metadata": {
        "colab": {
          "base_uri": "https://localhost:8080/",
          "height": 255
        },
        "id": "5RkUPiVnJna0",
        "outputId": "9c07191d-495b-45ae-c699-94b71555a36e"
      },
      "outputs": [
        {
          "output_type": "execute_result",
          "data": {
            "text/plain": [
              "<Figure size 369.704x284.278 with 1 Axes>"
            ],
            "image/png": "[encoded data removed]"
          },
          "metadata": {},
          "execution_count": 7
        }
      ],
      "source": [
        "quantum_circuit.draw(output=\"mpl\")"
      ]
    },
    {
      "cell_type": "markdown",
      "metadata": {
        "id": "AmxHHK1cFRff"
      },
      "source": [
        "## You can extract the statevector:\n",
        "psi is the statevector that you'd get if you ran the circuit, from left to right, starting from the all-zero configuration.\n",
        "\n",
        "psi[x] is the amplitude of the configuration $|x_0 x_1 x_2> := |x_0> |x_1> |x_2>$, where x's binary representation is $x_2 x_1 x_0$ (note the reverse order). that is, psi[0] is the amplitude of $|000>$, psi[1] is the amplitude of $|100>$, and so on."
      ]
    },
    {
      "cell_type": "code",
      "execution_count": 8,
      "metadata": {
        "colab": {
          "base_uri": "https://localhost:8080/"
        },
        "id": "G7VJbrOlJqBb",
        "outputId": "5e14f4a8-0ac8-4f93-e4e9-a1565682a75c"
      },
      "outputs": [
        {
          "output_type": "stream",
          "name": "stdout",
          "text": [
            "Statevector([0.70710678+0.j, 0.        +0.j, 0.        +0.j,\n",
            "             0.        +0.j, 0.        +0.j, 0.        +0.j,\n",
            "             0.        +0.j, 0.70710678+0.j],\n",
            "            dims=(2, 2, 2))\n"
          ]
        }
      ],
      "source": [
        "psi = Statevector(quantum_circuit)\n",
        "psi"
      ]
    },
    {
      "cell_type": "code",
      "execution_count": 9,
      "metadata": {
        "colab": {
          "base_uri": "https://localhost:8080/",
          "height": 40
        },
        "id": "f57wrQYr-9AH",
        "outputId": "99a12fe5-277d-446f-b90c-6d93f572ef71"
      },
      "outputs": [
        {
          "output_type": "execute_result",
          "data": {
            "text/plain": [
              "<IPython.core.display.Latex object>"
            ],
            "text/latex": "$$\\frac{\\sqrt{2}}{2} |000\\rangle+\\frac{\\sqrt{2}}{2} |111\\rangle$$"
          },
          "metadata": {},
          "execution_count": 9
        }
      ],
      "source": [
        "# print the statevector\n",
        "psi.draw(\"Latex\")"
      ]
    },
    {
      "cell_type": "code",
      "execution_count": 10,
      "metadata": {
        "colab": {
          "base_uri": "https://localhost:8080/"
        },
        "id": "OWGc7Nyy-9AH",
        "outputId": "8a6d026a-c294-490a-900e-8b97874b5f97"
      },
      "outputs": [
        {
          "output_type": "execute_result",
          "data": {
            "text/plain": [
              "array([[ 0.707+0.j,  0.707+0.j,  0.   +0.j,  0.   +0.j,  0.   +0.j,\n",
              "         0.   +0.j,  0.   +0.j,  0.   +0.j],\n",
              "       [ 0.   +0.j,  0.   +0.j,  0.707+0.j, -0.707+0.j,  0.   +0.j,\n",
              "         0.   +0.j,  0.   +0.j,  0.   +0.j],\n",
              "       [ 0.   +0.j,  0.   +0.j,  0.   +0.j,  0.   +0.j,  0.   +0.j,\n",
              "         0.   +0.j,  0.707+0.j,  0.707+0.j],\n",
              "       [ 0.   +0.j,  0.   +0.j,  0.   +0.j,  0.   +0.j,  0.707+0.j,\n",
              "        -0.707+0.j,  0.   +0.j,  0.   +0.j],\n",
              "       [ 0.   +0.j,  0.   +0.j,  0.   +0.j,  0.   +0.j,  0.707+0.j,\n",
              "         0.707+0.j,  0.   +0.j,  0.   +0.j],\n",
              "       [ 0.   +0.j,  0.   +0.j,  0.   +0.j,  0.   +0.j,  0.   +0.j,\n",
              "         0.   +0.j,  0.707+0.j, -0.707+0.j],\n",
              "       [ 0.   +0.j,  0.   +0.j,  0.707+0.j,  0.707+0.j,  0.   +0.j,\n",
              "         0.   +0.j,  0.   +0.j,  0.   +0.j],\n",
              "       [ 0.707+0.j, -0.707+0.j,  0.   +0.j,  0.   +0.j,  0.   +0.j,\n",
              "         0.   +0.j,  0.   +0.j,  0.   +0.j]])"
            ]
          },
          "metadata": {},
          "execution_count": 10
        }
      ],
      "source": [
        "# view the circuit as a combined gate\n",
        "np.round(Operator(quantum_circuit).data, 3)"
      ]
    },
    {
      "cell_type": "markdown",
      "metadata": {
        "id": "2GwFLHqoFRfg"
      },
      "source": [
        "### Similarly, you can get the probabilities:"
      ]
    },
    {
      "cell_type": "code",
      "execution_count": 11,
      "metadata": {
        "colab": {
          "base_uri": "https://localhost:8080/"
        },
        "id": "imAR1-FRJwvl",
        "outputId": "4614752e-3dcb-4ea5-92f5-444fa2be2169"
      },
      "outputs": [
        {
          "output_type": "execute_result",
          "data": {
            "text/plain": [
              "array([0.5, 0. , 0. , 0. , 0. , 0. , 0. , 0.5])"
            ]
          },
          "metadata": {},
          "execution_count": 11
        }
      ],
      "source": [
        "probabilities = psi.probabilities()\n",
        "probabilities"
      ]
    },
    {
      "cell_type": "markdown",
      "metadata": {
        "id": "euLQ_745FRfh"
      },
      "source": [
        "### <b>remark:</b>\n",
        "\n",
        "the psi above is the 3-qubit Greenberger–Horne–Zeilinger (GHZ) state: $|\\mathrm{GHZ}> = \\tfrac{1}{\\sqrt{2}} \\left( |000> + |111> \\right)$"
      ]
    },
    {
      "cell_type": "markdown",
      "metadata": {
        "id": "BVyHAQMNFRfh"
      },
      "source": [
        "# Important gates"
      ]
    },
    {
      "cell_type": "markdown",
      "metadata": {
        "id": "DFobhb-nFRfh"
      },
      "source": [
        "Hadamard: $H = \\tfrac{1}{\\sqrt{2}} \\begin{bmatrix} 1 & 1 \\\\ 1 & - 1 \\end{bmatrix}$.\n",
        "\n",
        "$|+> := H|0> \\quad \\& \\quad |-> := H |1>$"
      ]
    },
    {
      "cell_type": "code",
      "execution_count": 12,
      "metadata": {
        "id": "p09ijKAAFRfh",
        "outputId": "a83ea2c4-b12d-4b18-b018-7d7b38ed4a85",
        "colab": {
          "base_uri": "https://localhost:8080/",
          "height": 127
        }
      },
      "outputs": [
        {
          "output_type": "execute_result",
          "data": {
            "text/plain": [
              "<Figure size 184.251x117.056 with 1 Axes>"
            ],
            "image/png": "[encoded data removed]"
          },
          "metadata": {},
          "execution_count": 12
        }
      ],
      "source": [
        "quantum_register = QuantumRegister(1, \"x\")\n",
        "\n",
        "quantum_circuit = QuantumCircuit(quantum_register)\n",
        "\n",
        "quantum_circuit.h(0)\n",
        "\n",
        "quantum_circuit.draw(output=\"mpl\")"
      ]
    },
    {
      "cell_type": "markdown",
      "metadata": {
        "id": "L2M4gtJPFRfi"
      },
      "source": [
        "## <b><u>Pauli gates</u></b>"
      ]
    },
    {
      "cell_type": "markdown",
      "metadata": {
        "id": "O2OQQCgrFRfi"
      },
      "source": [
        "<b>(Pauli) $X$ gate</b> (also known as, <b>NOT</b> or <b>bit-flip gate</b>): $X = \\begin{bmatrix} 0 & 1 \\\\ 1 & 0 \\end{bmatrix}$.\n",
        "\n",
        "$X |x> = |x \\oplus 1>$"
      ]
    },
    {
      "cell_type": "markdown",
      "metadata": {
        "id": "8DTY6O7qFRfi"
      },
      "source": [
        "<b>(Pauli) $Z$ gate</b> (also known as the <b>phase-flip gate</b>): $Z = \\begin{bmatrix} 1 & 0 \\\\ 0 & - 1 \\end{bmatrix}$.\n",
        "\n",
        "$Z |x> = (- 1)^x |x>$"
      ]
    },
    {
      "cell_type": "markdown",
      "metadata": {
        "id": "O63gJXBpFRfi"
      },
      "source": [
        "### <b>note:</b>\n",
        "\n",
        "$X |\\pm> = \\pm |\\pm>$ and $Z |\\pm> = |\\mp>$\n",
        "\n",
        "Equivalently: $XH = HZ$ and $ZH = HX$. $H$ is a change-of-base matrix between the eigenbases of $X$ and $Z$."
      ]
    },
    {
      "cell_type": "markdown",
      "metadata": {
        "id": "i6GP1q8_FRfi"
      },
      "source": [
        "<b>(Pauli) $Y$ gate</b> $Y = \\begin{bmatrix} 0 & - i \\\\ i & 0 \\end{bmatrix} = i XZ$.\n",
        "\n",
        "This is less used, but you should still know about."
      ]
    },
    {
      "cell_type": "markdown",
      "metadata": {
        "id": "Mg1hs_NcFRfi",
        "tags": []
      },
      "source": [
        "### <b>note:</b>\n",
        "\n",
        "All Pauli gates, $P \\in \\{ X, Y, Z \\}$, satisfy:\n",
        "\n",
        "$P^\\dagger = P$, $P^2 = \\mathbb{I}$.\n",
        "\n",
        "If $\\sigma_1 := X$, $\\sigma_2 := Y$, and $\\sigma_3 := Z$, then\n",
        "\n",
        "$\\sigma_a \\sigma_b = i \\sum\\limits_{c = 1}^3 \\epsilon_{abc} \\sigma_c$, where $\\epsilon_{abc}$ is the [Levi-Civita symbol](https://en.wikipedia.org/wiki/Levi-Civita_symbol)."
      ]
    },
    {
      "cell_type": "code",
      "execution_count": 13,
      "metadata": {
        "id": "V-D3z-1V-9AK"
      },
      "outputs": [],
      "source": [
        "#XY = iZ, YZ = iX, ZX = iY, YX = -iZ\n",
        "#XX = YY = ZZ = I"
      ]
    },
    {
      "cell_type": "code",
      "execution_count": 14,
      "metadata": {
        "id": "DG8snJ-_FRfi",
        "outputId": "df76cba5-2097-4de1-da75-97b29cb24b8d",
        "colab": {
          "base_uri": "https://localhost:8080/",
          "height": 255
        }
      },
      "outputs": [
        {
          "output_type": "execute_result",
          "data": {
            "text/plain": [
              "<Figure size 202.683x284.278 with 1 Axes>"
            ],
            "image/png": "[encoded data removed]"
          },
          "metadata": {},
          "execution_count": 14
        }
      ],
      "source": [
        "quantum_register = QuantumRegister(3, \"x\")\n",
        "\n",
        "quantum_circuit = QuantumCircuit(quantum_register)\n",
        "\n",
        "quantum_circuit.x(quantum_register[0])\n",
        "\n",
        "quantum_circuit.y(quantum_register[1])\n",
        "\n",
        "quantum_circuit.z(quantum_register[2])\n",
        "\n",
        "quantum_circuit.draw(output=\"mpl\")"
      ]
    },
    {
      "cell_type": "code",
      "execution_count": 15,
      "metadata": {
        "colab": {
          "base_uri": "https://localhost:8080/",
          "height": 191
        },
        "id": "Vz8Y_wcB-9AL",
        "outputId": "5530de15-8cae-4288-fdf5-0872b4840b86"
      },
      "outputs": [
        {
          "output_type": "execute_result",
          "data": {
            "text/plain": [
              "<Figure size 287.294x200.667 with 1 Axes>"
            ],
            "image/png": "[encoded data removed]"
          },
          "metadata": {},
          "execution_count": 15
        }
      ],
      "source": [
        "qc = QuantumCircuit(2)\n",
        "qc.x(0)\n",
        "qc.x(0)\n",
        "\n",
        "qc.draw(\"mpl\")"
      ]
    },
    {
      "cell_type": "code",
      "execution_count": 16,
      "metadata": {
        "colab": {
          "base_uri": "https://localhost:8080/",
          "height": 37
        },
        "id": "ZNHI8ox5-9AL",
        "outputId": "6dc38818-af30-44b4-8c15-c616ce66f815"
      },
      "outputs": [
        {
          "output_type": "execute_result",
          "data": {
            "text/plain": [
              "<IPython.core.display.Latex object>"
            ],
            "text/latex": "$$ |00\\rangle$$"
          },
          "metadata": {},
          "execution_count": 16
        }
      ],
      "source": [
        "Statevector(qc).draw(\"Latex\")"
      ]
    },
    {
      "cell_type": "code",
      "execution_count": 17,
      "metadata": {
        "colab": {
          "base_uri": "https://localhost:8080/"
        },
        "id": "vhOa9Ksh-9AL",
        "outputId": "c4f98753-1fb8-4141-c927-d6af4f165c34"
      },
      "outputs": [
        {
          "output_type": "execute_result",
          "data": {
            "text/plain": [
              "array([[1.+0.j, 0.+0.j, 0.+0.j, 0.+0.j],\n",
              "       [0.+0.j, 1.+0.j, 0.+0.j, 0.+0.j],\n",
              "       [0.+0.j, 0.+0.j, 1.+0.j, 0.+0.j],\n",
              "       [0.+0.j, 0.+0.j, 0.+0.j, 1.+0.j]])"
            ]
          },
          "metadata": {},
          "execution_count": 17
        }
      ],
      "source": [
        "Operator(qc).data"
      ]
    },
    {
      "cell_type": "code",
      "execution_count": 18,
      "metadata": {
        "id": "fZ5-RAjw-9AM"
      },
      "outputs": [],
      "source": [
        "# X = HZH, Z = HXH\n",
        "#Rx = H Rz H, #Rz = H Rx H"
      ]
    },
    {
      "cell_type": "markdown",
      "metadata": {
        "id": "Q6cXTyQRFRfi"
      },
      "source": [
        "## <b><u>General 1-qubit gates</u></b>"
      ]
    },
    {
      "cell_type": "markdown",
      "metadata": {
        "id": "IcaZAj_6FRfj"
      },
      "source": [
        "Every 1-qubit gate is equivalent to one of these:\n",
        "\n",
        "$U(\\theta, \\varphi, \\lambda) = \\begin{bmatrix} \\cos \\left( \\tfrac{\\theta}{2} \\right) & - e^{i \\lambda} \\sin \\left( \\tfrac{\\theta}{2} \\right) \\\\ e^{i \\varphi} \\sin \\left( \\tfrac{\\theta}{2} \\right) & e^{i (\\varphi + \\lambda)} \\cos \\left( \\tfrac{\\theta}{2} \\right) \\end{bmatrix}$,\n",
        "\n",
        "for some $(\\theta, \\varphi, \\lambda) \\in \\left[ 0, 2 \\pi \\right)^3$. See: [Qiskit $U$ gate](https://docs.quantum.ibm.com/api/qiskit/qiskit.circuit.library.UGate)"
      ]
    },
    {
      "cell_type": "code",
      "execution_count": 19,
      "metadata": {
        "id": "Ivo9Bc2vFRfj",
        "outputId": "139cb597-7391-407c-d77e-0a356ac6c5c7",
        "colab": {
          "base_uri": "https://localhost:8080/",
          "height": 127
        }
      },
      "outputs": [
        {
          "output_type": "execute_result",
          "data": {
            "text/plain": [
              "<Figure size 184.251x117.056 with 1 Axes>"
            ],
            "image/png": "[encoded data removed]"
          },
          "metadata": {},
          "execution_count": 19
        }
      ],
      "source": [
        "Theta, Phi, Lambda = Parameter(r\"$\\theta$\"), Parameter(r\"$\\varphi$\"), Parameter(r\"$\\lambda$\")\n",
        "\n",
        "\n",
        "quantum_register = QuantumRegister(1, \"x\")\n",
        "\n",
        "quantum_circuit = QuantumCircuit(quantum_register)\n",
        "\n",
        "quantum_circuit.u(Theta, Phi, Lambda, quantum_register[0])\n",
        "\n",
        "quantum_circuit.draw(output=\"mpl\", style=\"bw\")"
      ]
    },
    {
      "cell_type": "markdown",
      "metadata": {
        "id": "oq-sIVx9FRfj"
      },
      "source": [
        "### Remark:\n",
        "\n",
        "$(\\theta, \\varphi, \\lambda)$ is not necessarily unique!\n",
        "\n",
        "For example, $U(0, 0, 0) = U(0, \\varphi, - \\varphi)$, for all $\\varphi$.\n",
        "\n",
        "In case you familiar with Lie groups: The group of all 1-qubit gates is isomorphic to $\\mathrm{SO}(3) \\cong U(2) / (U(1) \\mathrm{I})$.\n",
        "\n",
        "### note:\n",
        "\n",
        "$U (\\theta, \\varphi, \\lambda)^{- 1} = U (\\theta, \\varphi, \\lambda)^\\dagger = U (- \\theta, - \\varphi, - \\lambda)$.\n",
        "\n",
        "### Question:\n",
        "\n",
        "For any $(\\theta_1, \\varphi_1, \\lambda_1), (\\theta_2, \\varphi_2, \\lambda_2)$, compute $(\\theta_3, \\varphi_3, \\lambda_3)$ and $\\mu$, such that\n",
        "\n",
        "$U (\\theta_1, \\varphi_1, \\lambda_1) U (\\theta_2, \\varphi_2, \\lambda_2) = e^{i \\mu} U(\\theta_3, \\varphi_3, \\lambda_3)$."
      ]
    },
    {
      "cell_type": "markdown",
      "metadata": {
        "id": "Wl6HQpG-FRfj"
      },
      "source": [
        "### Task:\n",
        "\n",
        "Find $(\\theta, \\varphi, \\lambda)$ for $H$, $X$, $Y$, and $Z$."
      ]
    },
    {
      "cell_type": "markdown",
      "metadata": {
        "id": "JjpDjKjXFRfj"
      },
      "source": [
        "## <b>Rotations</b>\n",
        "\n",
        "There are 3 \"rotation\" gates:\n",
        "\n",
        "$R_X (\\theta) = \\begin{bmatrix} \\cos \\left( \\tfrac{\\theta}{2} \\right) & - i \\sin \\left( \\tfrac{\\theta}{2} \\right) \\\\ - i \\sin \\left( \\tfrac{\\theta}{2} \\right) & \\cos \\left( \\tfrac{\\theta}{2} \\right) \\end{bmatrix} = \\exp \\left(- i \\tfrac{\\theta}{2} X \\right) = U \\left( \\theta, - \\tfrac{\\pi}{2}, \\tfrac{\\pi}{2} \\right)$,\n",
        "\n",
        "$R_Y (\\theta) = \\begin{bmatrix} \\cos \\left( \\tfrac{\\theta}{2} \\right) & - \\sin \\left( \\tfrac{\\theta}{2} \\right) \\\\ \\sin \\left( \\tfrac{\\theta}{2} \\right) & \\cos \\left( \\tfrac{\\theta}{2} \\right) \\end{bmatrix} = \\exp \\left(- i \\tfrac{\\theta}{2} Y \\right) = U \\left( \\theta, 0, 0 \\right)$.\n",
        "\n",
        "$R_Z (\\theta) = \\begin{bmatrix} e^{- i \\frac{\\theta}{2}} & 0 \\\\ 0 & e^{i \\frac{\\theta}{2}} \\end{bmatrix} = \\exp \\left(- i \\tfrac{\\theta}{2} Z \\right) = e^{- i \\frac{\\theta}{2}} U \\left( 0, 0, \\theta \\right)$."
      ]
    },
    {
      "cell_type": "code",
      "execution_count": 20,
      "metadata": {
        "id": "P_Ph57wrFRfj",
        "outputId": "47c50f0f-8526-4e62-f83d-a433ceb74ff8",
        "colab": {
          "base_uri": "https://localhost:8080/",
          "height": 255
        }
      },
      "outputs": [
        {
          "output_type": "execute_result",
          "data": {
            "text/plain": [
              "<Figure size 202.683x284.278 with 1 Axes>"
            ],
            "image/png": "[encoded data removed]"
          },
          "metadata": {},
          "execution_count": 20
        }
      ],
      "source": [
        "Theta = Parameter(r\"$\\theta$\")\n",
        "\n",
        "quantum_register = QuantumRegister(3, \"x\")\n",
        "\n",
        "quantum_circuit = QuantumCircuit(quantum_register)\n",
        "\n",
        "quantum_circuit.rx(Theta, quantum_register[0])\n",
        "quantum_circuit.ry(Theta, quantum_register[1])\n",
        "quantum_circuit.rz(Theta, quantum_register[2])\n",
        "\n",
        "quantum_circuit.draw(output=\"mpl\", style=\"bw\")"
      ]
    },
    {
      "cell_type": "markdown",
      "metadata": {
        "id": "3ZxA_Ba7FRfj"
      },
      "source": [
        "### Task:\n",
        "\n",
        "Show that $U (\\theta, \\varphi, \\lambda) = e^{i \\frac{\\lambda + \\varphi}{2}} R_Z \\left( \\varphi + \\tfrac{\\pi}{2} \\right) H R_Z (\\theta) H R_Z \\left( \\lambda - \\tfrac{\\pi}{2} \\right)$. In particular, a quantum computer that is \"only\" capable of implementing $H$ and arbitrary angle $Z$-rotations is, in fact, capable of implementing any 1-qubit gates."
      ]
    },
    {
      "cell_type": "markdown",
      "metadata": {
        "id": "TibukyHAFRfk"
      },
      "source": [
        "## <b>Phase gates</b>\n",
        "\n",
        "$P(\\varphi) = \\begin{bmatrix} 1 & 0 \\\\ 0 & e^{i \\varphi} \\end{bmatrix} = e^{- \\frac{i\\varphi}{2}} R_Z (\\varphi)$.\n",
        "\n",
        "Physically same as a $Z$-rotations, but often more convenient to work with. Important special cases:\n",
        "\n",
        "$S = P \\left( \\tfrac{\\pi}{2} \\right) = \\begin{bmatrix} 1 & 0 \\\\ 0 & i \\end{bmatrix}$ and $T = P \\left( \\tfrac{\\pi}{4} \\right) = \\begin{bmatrix} 1 & 0 \\\\ 0 & \\tfrac{1 + i}{\\sqrt{2}} \\end{bmatrix}$.\n",
        "\n",
        "Note that, $S^2 = Z$ and $T^2 = S$."
      ]
    },
    {
      "cell_type": "code",
      "execution_count": 21,
      "metadata": {
        "id": "wgX-m-ozFRfk",
        "outputId": "d24d6f6c-2e77-495b-c81b-615f90266803",
        "colab": {
          "base_uri": "https://localhost:8080/",
          "height": 127
        }
      },
      "outputs": [
        {
          "output_type": "execute_result",
          "data": {
            "text/plain": [
              "<Figure size 184.251x117.056 with 1 Axes>"
            ],
            "image/png": "[encoded data removed]"
          },
          "metadata": {},
          "execution_count": 21
        }
      ],
      "source": [
        "Theta = Parameter(r\"$\\theta$\")\n",
        "\n",
        "quantum_register = QuantumRegister(1, \"x\")\n",
        "\n",
        "quantum_circuit = QuantumCircuit(quantum_register)\n",
        "\n",
        "quantum_circuit.p(Theta, quantum_register[0])\n",
        "\n",
        "quantum_circuit.draw(output=\"mpl\", style=\"bw\")"
      ]
    },
    {
      "cell_type": "markdown",
      "metadata": {
        "id": "ZgfICkvmFRfk"
      },
      "source": [
        "## <b><u>Controlled gates</u></b>"
      ]
    },
    {
      "cell_type": "markdown",
      "metadata": {
        "id": "yYRj4MslFRfk"
      },
      "source": [
        "If $U$ is a 1-qubit gates, then the controlled version of $U$, usually called $CU$, is the following 2-qubit gate:\n",
        "\n",
        "$CU |x>|y> = |x> U^x |y> = \\left\\{ \\begin{array}{ll} |x> |y>, & \\mbox{if } x = 0, \\\\ |x> U |y>, & \\mbox{if } x = 1. \\end{array} \\right.$"
      ]
    },
    {
      "cell_type": "markdown",
      "metadata": {
        "id": "Hydv22BqFRfk"
      },
      "source": [
        "### Remark:\n",
        "\n",
        "For any $t \\in \\mathbb{R}$, the 1-qubit gates $U$ and $V := e^{it} U$ are equivalent. However, $CU$ and $CV$ are not!!!"
      ]
    },
    {
      "cell_type": "markdown",
      "metadata": {
        "id": "vQIJivmfFRfk"
      },
      "source": [
        "## <b>CNOT</b>"
      ]
    },
    {
      "cell_type": "markdown",
      "metadata": {
        "id": "3k39BMDKFRfk"
      },
      "source": [
        "(The most important) Example:\n",
        "\n",
        "When $U = X$, $CX$ is also called \"controlled-NOT\" or \"CNOT\":\n",
        "\n",
        "$CX |x>|y> = |x> |x \\oplus y> = \\left\\{ \\begin{array}{ll} |x> |y>, & \\mbox{if } x = 0, \\\\ |x> |1 \\oplus y>, & \\mbox{if } x = 1. \\end{array} \\right.$\n",
        "\n",
        "Its matrix in the computational basis:\n",
        "\n",
        "$[CX] = \\begin{bmatrix} 1 & 0 & 0 & 0 \\\\ 0 & 0 & 0 & 1 \\\\ 0 & 0 & 1 & 0 \\\\ 0 & 1 & 0 & 0 \\end{bmatrix}$."
      ]
    },
    {
      "cell_type": "code",
      "execution_count": 22,
      "metadata": {
        "id": "NqiKlh36-9AQ"
      },
      "outputs": [],
      "source": [
        "# use the top circuit as the most significant bit\n",
        "# 1 0 0 0\n",
        "# 0 1 0 0\n",
        "# 0 0 0 1\n",
        "# 0 0 1 0\n",
        "\n",
        "# qiskit convention\n",
        "# CX(a|00> + b|01> + c|10> + d|11>) = a|00> + b|11> + c|10> + d|01>\n",
        "\n",
        "#(a, b, c, d) -> (a, d, c ,b)"
      ]
    },
    {
      "cell_type": "code",
      "execution_count": 23,
      "metadata": {
        "id": "WOit1RccFRfk",
        "outputId": "03cefda3-ae92-4674-8994-08dff5e5ad54",
        "colab": {
          "base_uri": "https://localhost:8080/",
          "height": 262
        }
      },
      "outputs": [
        {
          "output_type": "stream",
          "name": "stdout",
          "text": [
            "[[1 0 0 0]\n",
            " [0 1 0 0]\n",
            " [0 0 0 1]\n",
            " [0 0 1 0]]\n"
          ]
        },
        {
          "output_type": "execute_result",
          "data": {
            "text/plain": [
              "<Figure size 202.481x200.667 with 1 Axes>"
            ],
            "image/png": "[encoded data removed]"
          },
          "metadata": {},
          "execution_count": 23
        }
      ],
      "source": [
        "quantum_register = QuantumRegister(2, \"x\")\n",
        "\n",
        "quantum_circuit = QuantumCircuit(quantum_register)\n",
        "\n",
        "quantum_circuit.cx(quantum_register[1], quantum_register[0])\n",
        "\n",
        "print(np.real(np.array(Operator(quantum_circuit))).astype(int)) # converting to real integer type just for better readablility\n",
        "\n",
        "quantum_circuit.draw(output=\"mpl\", style=\"bw\")"
      ]
    },
    {
      "cell_type": "markdown",
      "metadata": {
        "id": "yJxkBMjlFRfp"
      },
      "source": [
        "### Algeraic properties\n",
        "\n",
        "$CX^2$ is the identity circuit. Moreover, the following circuit is also trivial!"
      ]
    },
    {
      "cell_type": "code",
      "execution_count": 24,
      "metadata": {
        "id": "szaNgg5gFRfp",
        "outputId": "110d5b54-0572-4ab4-88b1-79aa9b92db34",
        "colab": {
          "base_uri": "https://localhost:8080/",
          "height": 398
        }
      },
      "outputs": [
        {
          "output_type": "stream",
          "name": "stdout",
          "text": [
            "[[1 0 0 0 0 0 0 0]\n",
            " [0 1 0 0 0 0 0 0]\n",
            " [0 0 1 0 0 0 0 0]\n",
            " [0 0 0 1 0 0 0 0]\n",
            " [0 0 0 0 1 0 0 0]\n",
            " [0 0 0 0 0 1 0 0]\n",
            " [0 0 0 0 0 0 1 0]\n",
            " [0 0 0 0 0 0 0 1]]\n"
          ]
        },
        {
          "output_type": "execute_result",
          "data": {
            "text/plain": [
              "<Figure size 537.128x284.278 with 1 Axes>"
            ],
            "image/png": "[encoded data removed]"
          },
          "metadata": {},
          "execution_count": 24
        }
      ],
      "source": [
        "quantum_register = QuantumRegister(3, \"x\")\n",
        "\n",
        "quantum_circuit = QuantumCircuit(quantum_register)\n",
        "\n",
        "quantum_circuit.cx(quantum_register[0], quantum_register[2])\n",
        "quantum_circuit.cx(quantum_register[0], quantum_register[1])\n",
        "quantum_circuit.cx(quantum_register[1], quantum_register[2])\n",
        "quantum_circuit.cx(quantum_register[0], quantum_register[1])\n",
        "quantum_circuit.cx(quantum_register[1], quantum_register[2])\n",
        "\n",
        "print(np.real(np.array(Operator(quantum_circuit))).astype(int)) # converting to real integer type just for better readablility\n",
        "\n",
        "quantum_circuit.draw(output=\"mpl\", style=\"bw\")"
      ]
    },
    {
      "cell_type": "markdown",
      "metadata": {
        "id": "wUIurSgxFRfp"
      },
      "source": [
        "## Note about controls and target:\n",
        "\n",
        "In the computational basis $CX$ \"changes\" the target qubit, but not the control one. However this phenomenon is illusory and in another basis the roles can be reversed. For example, in the $\\{ |++>, |-+>, |+->, |--> \\}$ basis, we have\n",
        "\n",
        "$CX |++> = |++>$,\n",
        "\n",
        "$CX |-+> = |-+>$,\n",
        "\n",
        "$CX |+-> = |-->$,\n",
        "\n",
        "and\n",
        "\n",
        "$CX |--> = |+->$.\n",
        "\n",
        "Thus, now it is \"controlled\" by the second qubit, in the sense that\n",
        "\n",
        "$|\\mathrm{sign}_1 \\mathrm{sign}_2> = \\left\\{ \\begin{array}{ll} |\\mathrm{sign}_1 \\mathrm{sign}_2>, & \\mbox{if } \\mathrm{sign}_2 = +, \\\\ |(- \\mathrm{sign}_1) \\mathrm{sign}_2>, & \\mbox{if } \\mathrm{sign}_2 = -. \\end{array} \\right.$\n",
        "\n"
      ]
    },
    {
      "cell_type": "markdown",
      "metadata": {
        "id": "xtKcPiOtFRfp"
      },
      "source": [
        "### Remark: The controlled version of any 1-qubit gate can be implemented with only 1-qubit and CNOT gates; cf. Figure 4.6. in Nielsen and Chuang.\n",
        "\n",
        "Important example: <b>Controlled-phase gate</b>, $CP(\\theta)$. Its matrix is\n",
        "\n",
        "$[CP(\\theta)] = \\begin{bmatrix} 1 & 0 & 0 & 0 \\\\ 0 & 1 & 0 & 0 \\\\ 0 & 0 & 1 & 0 \\\\ 0 & 0 & 0 & e^{i \\theta} \\end{bmatrix}$.\n",
        "\n",
        "Note that this gate is completely symmetric in the \"controll\" and \"target\" qubits.\n",
        "\n",
        "$CP(\\theta)$ can be decomposed into 2 CNOT gates and 3 phase gates."
      ]
    },
    {
      "cell_type": "code",
      "execution_count": 25,
      "metadata": {
        "colab": {
          "base_uri": "https://localhost:8080/",
          "height": 191
        },
        "id": "FXWF5GpeFRfp",
        "outputId": "d9a01c94-cf20-44c6-9afa-12c78dd9eaa2"
      },
      "outputs": [
        {
          "output_type": "execute_result",
          "data": {
            "text/plain": [
              "<Figure size 453.315x200.667 with 1 Axes>"
            ],
            "image/png": "[encoded data removed]"
          },
          "metadata": {},
          "execution_count": 25
        }
      ],
      "source": [
        "Theta = Parameter(r\"$\\theta$\") # https://docs.quantum.ibm.com/api/qiskit/qiskit.circuit.Parameter\n",
        "\n",
        "quantum_register = QuantumRegister(2, \"x\")\n",
        "\n",
        "quantum_circuit = QuantumCircuit(quantum_register)\n",
        "\n",
        "quantum_circuit.cx(quantum_register[0], quantum_register[1])\n",
        "quantum_circuit.p(- Theta / 2, quantum_register[1])\n",
        "quantum_circuit.cx(quantum_register[0], quantum_register[1])\n",
        "quantum_circuit.p(Theta / 2, quantum_register[0])\n",
        "quantum_circuit.p(Theta / 2, quantum_register[1])\n",
        "\n",
        "# assign value to the parameter, define a new circuit bc\n",
        "bc = quantum_circuit.assign_parameters({Theta: np.pi / 2})\n",
        "\n",
        "quantum_circuit.draw(output=\"mpl\", style=\"bw\")"
      ]
    },
    {
      "cell_type": "code",
      "execution_count": 26,
      "metadata": {
        "colab": {
          "base_uri": "https://localhost:8080/",
          "height": 191
        },
        "id": "MDG_RZIw-9AT",
        "outputId": "a2e6fef1-1700-4464-8e68-c94150c51cda"
      },
      "outputs": [
        {
          "output_type": "execute_result",
          "data": {
            "text/plain": [
              "<Figure size 453.315x200.667 with 1 Axes>"
            ],
            "image/png": "[encoded data removed]"
          },
          "metadata": {},
          "execution_count": 26
        }
      ],
      "source": [
        "bc.draw(\"mpl\")"
      ]
    },
    {
      "cell_type": "code",
      "execution_count": 27,
      "metadata": {
        "colab": {
          "base_uri": "https://localhost:8080/"
        },
        "id": "0rA4YBTQ-9AT",
        "outputId": "640b8f2d-8873-4e37-a72f-7ea7ffb6a52f"
      },
      "outputs": [
        {
          "output_type": "execute_result",
          "data": {
            "text/plain": [
              "array([[1.+0.j, 0.+0.j, 0.+0.j, 0.+0.j],\n",
              "       [0.+0.j, 1.+0.j, 0.+0.j, 0.+0.j],\n",
              "       [0.+0.j, 0.+0.j, 1.+0.j, 0.+0.j],\n",
              "       [0.+0.j, 0.+0.j, 0.+0.j, 0.+1.j]])"
            ]
          },
          "metadata": {},
          "execution_count": 27
        }
      ],
      "source": [
        "np.round(Operator(bc).data, 3)"
      ]
    },
    {
      "cell_type": "markdown",
      "metadata": {
        "id": "R3ig3ysdFRfp"
      },
      "source": [
        "There also is a direct method to call it, if a decomposition is unnecessary."
      ]
    },
    {
      "cell_type": "code",
      "execution_count": 28,
      "metadata": {
        "id": "05KLZxd0FRfp",
        "outputId": "35a8afa9-18c8-4465-f976-9954a351ac6c",
        "colab": {
          "base_uri": "https://localhost:8080/",
          "height": 191
        }
      },
      "outputs": [
        {
          "output_type": "execute_result",
          "data": {
            "text/plain": [
              "<Figure size 202.481x200.667 with 1 Axes>"
            ],
            "image/png": "[encoded data removed]"
          },
          "metadata": {},
          "execution_count": 28
        }
      ],
      "source": [
        "Theta = Parameter(r\"$\\theta$\")\n",
        "\n",
        "quantum_register = QuantumRegister(2, \"x\")\n",
        "\n",
        "quantum_circuit = QuantumCircuit(quantum_register)\n",
        "\n",
        "quantum_circuit.cp(Theta, quantum_register[0], quantum_register[1])\n",
        "\n",
        "quantum_circuit.draw(output=\"mpl\", style=\"bw\")"
      ]
    },
    {
      "cell_type": "markdown",
      "metadata": {
        "id": "GV36fah8FRfq"
      },
      "source": [
        "## <b>SWAP gate</b>\n",
        "\n",
        "$\\mathrm{SWAP} |xy> = |yx>$.\n",
        "\n",
        "Its matrix on the computational basis is\n",
        "\n",
        "$[\\mathrm{SWAP}] = \\begin{bmatrix} 1 & 0 & 0 & 0 \\\\ 0 & 0 & 1 & 0 \\\\ 0 & 1 & 0 & 0 \\\\ 0 & 0 & 0 & 1 \\end{bmatrix}$."
      ]
    },
    {
      "cell_type": "code",
      "execution_count": 29,
      "metadata": {
        "id": "Dg0qJAR_FRfq",
        "outputId": "f3c5fe70-6dcc-4273-f13e-e5390744251d",
        "colab": {
          "base_uri": "https://localhost:8080/",
          "height": 262
        }
      },
      "outputs": [
        {
          "output_type": "stream",
          "name": "stdout",
          "text": [
            "[[1 0 0 0]\n",
            " [0 0 1 0]\n",
            " [0 1 0 0]\n",
            " [0 0 0 1]]\n"
          ]
        },
        {
          "output_type": "execute_result",
          "data": {
            "text/plain": [
              "<Figure size 202.481x200.667 with 1 Axes>"
            ],
            "image/png": "[encoded data removed]"
          },
          "metadata": {},
          "execution_count": 29
        }
      ],
      "source": [
        "quantum_register = QuantumRegister(2, \"x\")\n",
        "\n",
        "quantum_circuit = QuantumCircuit(quantum_register)\n",
        "\n",
        "quantum_circuit.swap(quantum_register[0], quantum_register[1])\n",
        "\n",
        "print(np.real(np.array(Operator(quantum_circuit))).astype(int)) # converting to real integer type just for better readablility\n",
        "\n",
        "quantum_circuit.draw(output=\"mpl\", style=\"bw\")"
      ]
    },
    {
      "cell_type": "markdown",
      "metadata": {
        "id": "-OURWV5uFRfq"
      },
      "source": [
        "Show that the swap gate can be implemented with 3 CNOT gates as follows:"
      ]
    },
    {
      "cell_type": "code",
      "execution_count": 30,
      "metadata": {
        "id": "f9EpploBFRfq",
        "outputId": "951c27de-27a6-4731-fcc0-a0235b83500e",
        "colab": {
          "base_uri": "https://localhost:8080/",
          "height": 262
        }
      },
      "outputs": [
        {
          "output_type": "stream",
          "name": "stdout",
          "text": [
            "[[1 0 0 0]\n",
            " [0 0 1 0]\n",
            " [0 1 0 0]\n",
            " [0 0 0 1]]\n"
          ]
        },
        {
          "output_type": "execute_result",
          "data": {
            "text/plain": [
              "<Figure size 369.704x200.667 with 1 Axes>"
            ],
            "image/png": "[encoded data removed]"
          },
          "metadata": {},
          "execution_count": 30
        }
      ],
      "source": [
        "quantum_register = QuantumRegister(2, \"x\")\n",
        "\n",
        "quantum_circuit = QuantumCircuit(quantum_register)\n",
        "\n",
        "quantum_circuit.cx(quantum_register[0], quantum_register[1])\n",
        "quantum_circuit.cx(quantum_register[1], quantum_register[0])\n",
        "quantum_circuit.cx(quantum_register[0], quantum_register[1])\n",
        "\n",
        "print(np.real(np.array(Operator(quantum_circuit))).astype(int)) # converting to real integer type just for better readablility\n",
        "\n",
        "quantum_circuit.draw(output=\"mpl\", style=\"bw\")"
      ]
    },
    {
      "cell_type": "markdown",
      "metadata": {
        "id": "3FhV8zAMFRfq"
      },
      "source": [
        "# Toffoli gate\n",
        "\n",
        "The Toffoli gates is a doubly-controlled $X$ gate, usually denoted as $CCX$:\n",
        "\n",
        "$CCX |x y z> = |x y (xy \\oplus z)>$."
      ]
    },
    {
      "cell_type": "code",
      "execution_count": 31,
      "metadata": {
        "id": "kcd9rLaXFRfq",
        "outputId": "01485a44-610a-482f-fe44-8bd773ffc948",
        "colab": {
          "base_uri": "https://localhost:8080/",
          "height": 398
        }
      },
      "outputs": [
        {
          "output_type": "stream",
          "name": "stdout",
          "text": [
            "[[1 0 0 0 0 0 0 0]\n",
            " [0 1 0 0 0 0 0 0]\n",
            " [0 0 1 0 0 0 0 0]\n",
            " [0 0 0 0 0 0 0 1]\n",
            " [0 0 0 0 1 0 0 0]\n",
            " [0 0 0 0 0 1 0 0]\n",
            " [0 0 0 0 0 0 1 0]\n",
            " [0 0 0 1 0 0 0 0]]\n"
          ]
        },
        {
          "output_type": "execute_result",
          "data": {
            "text/plain": [
              "<Figure size 202.683x284.278 with 1 Axes>"
            ],
            "image/png": "[encoded data removed]"
          },
          "metadata": {},
          "execution_count": 31
        }
      ],
      "source": [
        "quantum_register = QuantumRegister(3, \"x\")\n",
        "\n",
        "quantum_circuit = QuantumCircuit(quantum_register)\n",
        "\n",
        "quantum_circuit.ccx(quantum_register[0], quantum_register[1], quantum_register[2])\n",
        "\n",
        "print(np.real(np.array(Operator(quantum_circuit))).astype(int)) # converting to real integer type just for better readablility\n",
        "\n",
        "quantum_circuit.draw(output=\"mpl\", style=\"bw\")"
      ]
    },
    {
      "cell_type": "markdown",
      "metadata": {
        "id": "wpvahIbZFRfq"
      },
      "source": [
        "The Toffoli gate can be implemented with $H$, $T$, and CNOT gates."
      ]
    },
    {
      "cell_type": "code",
      "execution_count": 32,
      "metadata": {
        "id": "rc6taX7LFRfq",
        "outputId": "2343df3c-7110-4f05-c5bb-f46a278f8493",
        "colab": {
          "base_uri": "https://localhost:8080/",
          "height": 398
        }
      },
      "outputs": [
        {
          "output_type": "stream",
          "name": "stdout",
          "text": [
            "[[1 0 0 0 0 0 0 0]\n",
            " [0 1 0 0 0 0 0 0]\n",
            " [0 0 1 0 0 0 0 0]\n",
            " [0 0 0 0 0 0 0 1]\n",
            " [0 0 0 0 1 0 0 0]\n",
            " [0 0 0 0 0 1 0 0]\n",
            " [0 0 0 0 0 0 1 0]\n",
            " [0 0 0 1 0 0 0 0]]\n"
          ]
        },
        {
          "output_type": "execute_result",
          "data": {
            "text/plain": [
              "<Figure size 1122.41x284.278 with 1 Axes>"
            ],
            "image/png": "[encoded data removed]"
          },
          "metadata": {},
          "execution_count": 32
        }
      ],
      "source": [
        "quantum_register = QuantumRegister(3, \"x\")\n",
        "\n",
        "quantum_circuit = QuantumCircuit(quantum_register)\n",
        "\n",
        "quantum_circuit.h(quantum_register[2])\n",
        "quantum_circuit.cx(quantum_register[1], quantum_register[2])\n",
        "quantum_circuit.tdg(quantum_register[2]) # tdg is the method for the inverse of T\n",
        "quantum_circuit.cx(quantum_register[0], quantum_register[2])\n",
        "quantum_circuit.t(quantum_register[2])\n",
        "quantum_circuit.cx(quantum_register[1], quantum_register[2])\n",
        "quantum_circuit.tdg(quantum_register[2])\n",
        "quantum_circuit.cx(quantum_register[0], quantum_register[2])\n",
        "quantum_circuit.t(quantum_register[2])\n",
        "quantum_circuit.h(quantum_register[2])\n",
        "quantum_circuit.cx(quantum_register[0], quantum_register[1])\n",
        "quantum_circuit.tdg(quantum_register[1])\n",
        "quantum_circuit.cx(quantum_register[0], quantum_register[1])\n",
        "quantum_circuit.t(quantum_register[0])\n",
        "quantum_circuit.t(quantum_register[1])\n",
        "\n",
        "print(np.real(np.round(np.array(Operator(quantum_circuit)), 3)).astype(int)) # converting to real integer type just for better readablility\n",
        "\n",
        "quantum_circuit.draw(output=\"mpl\", style=\"bw\")"
      ]
    },
    {
      "cell_type": "markdown",
      "metadata": {
        "id": "uoLtfChVFRfq"
      },
      "source": [
        "### Task:\n",
        "\n",
        "Simplify the following circuit so that it only has 1-, and 2-qubit gates."
      ]
    },
    {
      "cell_type": "code",
      "execution_count": 33,
      "metadata": {
        "id": "ceDLqN1HFRfq",
        "outputId": "f19aed15-5848-4bc9-eb7c-028cd757dfd8",
        "colab": {
          "base_uri": "https://localhost:8080/",
          "height": 398
        }
      },
      "outputs": [
        {
          "output_type": "stream",
          "name": "stdout",
          "text": [
            "[[0.+0.j 1.+0.j 0.+0.j 0.+0.j 0.+0.j 0.+0.j 0.+0.j 0.+0.j]\n",
            " [1.+0.j 0.+0.j 0.+0.j 0.+0.j 0.+0.j 0.+0.j 0.+0.j 0.+0.j]\n",
            " [0.+0.j 0.+0.j 0.+0.j 0.+0.j 0.+0.j 0.+0.j 0.+0.j 1.+0.j]\n",
            " [0.+0.j 0.+0.j 0.+0.j 0.+0.j 0.+0.j 0.+0.j 1.+0.j 0.+0.j]\n",
            " [0.+0.j 0.+0.j 0.+0.j 0.+0.j 0.+0.j 1.+0.j 0.+0.j 0.+0.j]\n",
            " [0.+0.j 0.+0.j 0.+0.j 0.+0.j 1.+0.j 0.+0.j 0.+0.j 0.+0.j]\n",
            " [0.+0.j 0.+0.j 0.+0.j 1.+0.j 0.+0.j 0.+0.j 0.+0.j 0.+0.j]\n",
            " [0.+0.j 0.+0.j 1.+0.j 0.+0.j 0.+0.j 0.+0.j 0.+0.j 0.+0.j]]\n"
          ]
        },
        {
          "output_type": "execute_result",
          "data": {
            "text/plain": [
              "<Figure size 369.906x284.278 with 1 Axes>"
            ],
            "image/png": "[encoded data removed]"
          },
          "metadata": {},
          "execution_count": 33
        }
      ],
      "source": [
        "quantum_register = QuantumRegister(3, \"x\")\n",
        "\n",
        "quantum_circuit = QuantumCircuit(quantum_register) #\n",
        "\n",
        "quantum_circuit.ccx(quantum_register[0], quantum_register[1], quantum_register[2])\n",
        "quantum_circuit.x(quantum_register[0])\n",
        "quantum_circuit.ccx(quantum_register[0], quantum_register[1], quantum_register[2])\n",
        "\n",
        "\n",
        "print(Operator(quantum_circuit).data)\n",
        "quantum_circuit.draw(output=\"mpl\", style=\"bw\")"
      ]
    },
    {
      "cell_type": "code",
      "execution_count": 34,
      "metadata": {
        "id": "LTxUX2xsFRfr",
        "colab": {
          "base_uri": "https://localhost:8080/",
          "height": 398
        },
        "outputId": "8f657c76-aa31-46e5-eb30-a8e06b0b6e72"
      },
      "outputs": [
        {
          "output_type": "stream",
          "name": "stdout",
          "text": [
            "[[0.+0.j 1.+0.j 0.+0.j 0.+0.j 0.+0.j 0.+0.j 0.+0.j 0.+0.j]\n",
            " [1.+0.j 0.+0.j 0.+0.j 0.+0.j 0.+0.j 0.+0.j 0.+0.j 0.+0.j]\n",
            " [0.+0.j 0.+0.j 0.+0.j 0.+0.j 0.+0.j 0.+0.j 0.+0.j 1.+0.j]\n",
            " [0.+0.j 0.+0.j 0.+0.j 0.+0.j 0.+0.j 0.+0.j 1.+0.j 0.+0.j]\n",
            " [0.+0.j 0.+0.j 0.+0.j 0.+0.j 0.+0.j 1.+0.j 0.+0.j 0.+0.j]\n",
            " [0.+0.j 0.+0.j 0.+0.j 0.+0.j 1.+0.j 0.+0.j 0.+0.j 0.+0.j]\n",
            " [0.+0.j 0.+0.j 0.+0.j 1.+0.j 0.+0.j 0.+0.j 0.+0.j 0.+0.j]\n",
            " [0.+0.j 0.+0.j 1.+0.j 0.+0.j 0.+0.j 0.+0.j 0.+0.j 0.+0.j]]\n"
          ]
        },
        {
          "output_type": "execute_result",
          "data": {
            "text/plain": [
              "<Figure size 203.885x284.278 with 1 Axes>"
            ],
            "image/png": "[encoded data removed]"
          },
          "metadata": {},
          "execution_count": 34
        }
      ],
      "source": [
        "quantum_circuit = QuantumCircuit(3)\n",
        "quantum_circuit.x(0)\n",
        "quantum_circuit.cx(1,2)\n",
        "\n",
        "print(Operator(quantum_circuit).data)\n",
        "quantum_circuit.draw(output=\"mpl\", style=\"bw\")"
      ]
    }
  ],
  "metadata": {
    "colab": {
      "provenance": [],
      "include_colab_link": true
    },
    "kernelspec": {
      "display_name": "Python 3 (ipykernel)",
      "language": "python",
      "name": "python3"
    },
    "language_info": {
      "codemirror_mode": {
        "name": "ipython",
        "version": 3
      },
      "file_extension": ".py",
      "mimetype": "text/x-python",
      "name": "python",
      "nbconvert_exporter": "python",
      "pygments_lexer": "ipython3",
      "version": "3.9.12"
    }
  },
  "nbformat": 4,
  "nbformat_minor": 0
}