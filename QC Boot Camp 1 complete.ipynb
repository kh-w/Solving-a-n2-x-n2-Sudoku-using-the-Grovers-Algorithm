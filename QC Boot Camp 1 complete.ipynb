{
 "cells": [
  {
   "cell_type": "code",
   "execution_count": null,
   "metadata": {
    "colab": {
     "base_uri": "https://localhost:8080/"
    },
    "id": "IHbn3KRMIzkD",
    "outputId": "90d22cd9-b41a-4ca3-a33e-7b7ad0301e9a"
   },
   "outputs": [],
   "source": [
    "%pip install qiskit numpy"
   ]
  },
  {
   "cell_type": "code",
   "execution_count": 2,
   "metadata": {
    "id": "kDthYM-OI5Hq"
   },
   "outputs": [],
   "source": [
    "from qiskit.circuit import QuantumCircuit, QuantumRegister, AncillaRegister, Parameter\n",
    "from qiskit.quantum_info import Statevector, Operator\n",
    "\n",
    "import numpy as np"
   ]
  },
  {
   "cell_type": "markdown",
   "metadata": {
    "id": "wM27G2ZcFRfb"
   },
   "source": [
    "# Let's start with a simple circuit:\n",
    "\n",
    "it has 2 + 1 qubits; the 3rd is considered an \"ancilla\" (that is, auxiliary) qubit"
   ]
  },
  {
   "cell_type": "code",
   "execution_count": 3,
   "metadata": {
    "id": "ZjHcm1fsI9qq"
   },
   "outputs": [],
   "source": [
    "quantum_register = QuantumRegister(size=2, name=\"x\") # https://docs.quantum.ibm.com/api/qiskit/0.40/qiskit.circuit.QuantumRegister\n",
    "ancilla_register = AncillaRegister(size=1, name=\"a\") # same as a QuantumRegister, its purpose is only for bookkeeping\n",
    "\n",
    "quantum_circuit = QuantumCircuit(quantum_register, ancilla_register, name=\"exmaple circuit\") # https://docs.quantum.ibm.com/api/qiskit/0.40/qiskit.circuit.QuantumCircuit"
   ]
  },
  {
   "cell_type": "code",
   "execution_count": 4,
   "metadata": {},
   "outputs": [
    {
     "data": {
      "image/png": "[encoded data removed]",
      "text/plain": [
       "<Figure size 115.687x204.68 with 1 Axes>"
      ]
     },
     "execution_count": 4,
     "metadata": {},
     "output_type": "execute_result"
    }
   ],
   "source": [
    "# draw the empty circuit\n",
    "quantum_circuit.draw(output=\"mpl\", style=\"bw\")"
   ]
  },
  {
   "cell_type": "code",
   "execution_count": 5,
   "metadata": {},
   "outputs": [
    {
     "data": {
      "text/latex": [
       "$$ |000\\rangle$$"
      ],
      "text/plain": [
       "<IPython.core.display.Latex object>"
      ]
     },
     "execution_count": 5,
     "metadata": {},
     "output_type": "execute_result"
    }
   ],
   "source": [
    "# initial state\n",
    "Statevector(quantum_circuit).draw(\"Latex\")"
   ]
  },
  {
   "cell_type": "markdown",
   "metadata": {
    "id": "qwwwhSxTFRfd"
   },
   "source": [
    "### Let's add a few gates:\n",
    "\n",
    "(What these gates are and what they do will be explained later.)"
   ]
  },
  {
   "cell_type": "code",
   "execution_count": 6,
   "metadata": {
    "colab": {
     "base_uri": "https://localhost:8080/"
    },
    "id": "0CWaxX01FRfd",
    "outputId": "f73c45fe-7137-4385-ebcf-e7267581894a"
   },
   "outputs": [
    {
     "data": {
      "text/plain": [
       "<qiskit.circuit.instructionset.InstructionSet at 0x7fed02a40820>"
      ]
     },
     "execution_count": 6,
     "metadata": {},
     "output_type": "execute_result"
    }
   ],
   "source": [
    "quantum_circuit.h(quantum_register[0])\n",
    "quantum_circuit.cx(quantum_register[0], quantum_register[1])\n",
    "quantum_circuit.cx(quantum_register[1], ancilla_register[0])\n",
    "\n",
    "# # equivalently, use indices\n",
    "# quantum_circuit.h(0)\n",
    "# quantum_circuit.cx(0, 1)\n",
    "# quantum_circuit.cx(1, 2)"
   ]
  },
  {
   "cell_type": "markdown",
   "metadata": {
    "id": "HQIffcVxFRfe"
   },
   "source": [
    "### You can plot the circuit:\n",
    "(output and style are set to my preferred ones, but there are other options)"
   ]
  },
  {
   "cell_type": "code",
   "execution_count": 7,
   "metadata": {
    "colab": {
     "base_uri": "https://localhost:8080/",
     "height": 471
    },
    "id": "5RkUPiVnJna0",
    "outputId": "406c358b-196c-478c-8176-640b5593df89"
   },
   "outputs": [
    {
     "data": {
      "image/png": "[encoded data removed]",
      "text/plain": [
       "<Figure size 266.187x204.68 with 1 Axes>"
      ]
     },
     "execution_count": 7,
     "metadata": {},
     "output_type": "execute_result"
    }
   ],
   "source": [
    "quantum_circuit.draw(output=\"mpl\")"
   ]
  },
  {
   "cell_type": "markdown",
   "metadata": {
    "id": "AmxHHK1cFRff"
   },
   "source": [
    "## You can extract the statevector:\n",
    "psi is the statevector that you'd get if you ran the circuit, from left to right, starting from the all-zero configuration.\n",
    "\n",
    "psi[x] is the amplitude of the configuration $|x_0 x_1 x_2> := |x_0> |x_1> |x_2>$, where x's binary representation is $x_2 x_1 x_0$ (note the reverse order). that is, psi[0] is the amplitude of $|000>$, psi[1] is the amplitude of $|100>$, and so on."
   ]
  },
  {
   "cell_type": "code",
   "execution_count": 8,
   "metadata": {
    "colab": {
     "base_uri": "https://localhost:8080/"
    },
    "id": "G7VJbrOlJqBb",
    "outputId": "9707ca2e-f51e-4961-c329-9356e5638465"
   },
   "outputs": [
    {
     "name": "stdout",
     "output_type": "stream",
     "text": [
      "Statevector([0.70710678+0.j, 0.        +0.j, 0.        +0.j,\n",
      "             0.        +0.j, 0.        +0.j, 0.        +0.j,\n",
      "             0.        +0.j, 0.70710678+0.j],\n",
      "            dims=(2, 2, 2))\n"
     ]
    }
   ],
   "source": [
    "psi = Statevector(quantum_circuit)\n",
    "psi"
   ]
  },
  {
   "cell_type": "code",
   "execution_count": 9,
   "metadata": {},
   "outputs": [
    {
     "data": {
      "text/latex": [
       "$$\\frac{\\sqrt{2}}{2} |000\\rangle+\\frac{\\sqrt{2}}{2} |111\\rangle$$"
      ],
      "text/plain": [
       "<IPython.core.display.Latex object>"
      ]
     },
     "execution_count": 9,
     "metadata": {},
     "output_type": "execute_result"
    }
   ],
   "source": [
    "# print the statevector\n",
    "psi.draw(\"Latex\")"
   ]
  },
  {
   "cell_type": "code",
   "execution_count": 10,
   "metadata": {},
   "outputs": [
    {
     "data": {
      "text/plain": [
       "array([[ 0.707+0.j,  0.707+0.j,  0.   +0.j,  0.   +0.j,  0.   +0.j,\n",
       "         0.   +0.j,  0.   +0.j,  0.   +0.j],\n",
       "       [ 0.   +0.j,  0.   +0.j,  0.707+0.j, -0.707+0.j,  0.   +0.j,\n",
       "         0.   +0.j,  0.   +0.j,  0.   +0.j],\n",
       "       [ 0.   +0.j,  0.   +0.j,  0.   +0.j,  0.   +0.j,  0.   +0.j,\n",
       "         0.   +0.j,  0.707+0.j,  0.707+0.j],\n",
       "       [ 0.   +0.j,  0.   +0.j,  0.   +0.j,  0.   +0.j,  0.707+0.j,\n",
       "        -0.707+0.j,  0.   +0.j,  0.   +0.j],\n",
       "       [ 0.   +0.j,  0.   +0.j,  0.   +0.j,  0.   +0.j,  0.707+0.j,\n",
       "         0.707+0.j,  0.   +0.j,  0.   +0.j],\n",
       "       [ 0.   +0.j,  0.   +0.j,  0.   +0.j,  0.   +0.j,  0.   +0.j,\n",
       "         0.   +0.j,  0.707+0.j, -0.707+0.j],\n",
       "       [ 0.   +0.j,  0.   +0.j,  0.707+0.j,  0.707+0.j,  0.   +0.j,\n",
       "         0.   +0.j,  0.   +0.j,  0.   +0.j],\n",
       "       [ 0.707+0.j, -0.707+0.j,  0.   +0.j,  0.   +0.j,  0.   +0.j,\n",
       "         0.   +0.j,  0.   +0.j,  0.   +0.j]])"
      ]
     },
     "execution_count": 10,
     "metadata": {},
     "output_type": "execute_result"
    }
   ],
   "source": [
    "# view the circuit as a combined gate\n",
    "np.round(Operator(quantum_circuit).data, 3)"
   ]
  },
  {
   "cell_type": "markdown",
   "metadata": {
    "id": "2GwFLHqoFRfg"
   },
   "source": [
    "### Similarly, you can get the probabilities:"
   ]
  },
  {
   "cell_type": "code",
   "execution_count": 11,
   "metadata": {
    "colab": {
     "base_uri": "https://localhost:8080/"
    },
    "id": "imAR1-FRJwvl",
    "outputId": "057ae6e6-f3d2-4ec6-944e-6be116b57ecd"
   },
   "outputs": [
    {
     "data": {
      "text/plain": [
       "array([0.5, 0. , 0. , 0. , 0. , 0. , 0. , 0.5])"
      ]
     },
     "execution_count": 11,
     "metadata": {},
     "output_type": "execute_result"
    }
   ],
   "source": [
    "probabilities = psi.probabilities()\n",
    "probabilities"
   ]
  },
  {
   "cell_type": "markdown",
   "metadata": {
    "id": "euLQ_745FRfh"
   },
   "source": [
    "### <b>remark:</b>\n",
    "\n",
    "the psi above is the 3-qubit Greenberger–Horne–Zeilinger (GHZ) state: $|\\mathrm{GHZ}> = \\tfrac{1}{\\sqrt{2}} \\left( |000> + |111> \\right)$"
   ]
  },
  {
   "cell_type": "markdown",
   "metadata": {
    "id": "BVyHAQMNFRfh"
   },
   "source": [
    "# Important gates"
   ]
  },
  {
   "cell_type": "markdown",
   "metadata": {
    "id": "DFobhb-nFRfh"
   },
   "source": [
    "Hadamard: $H = \\tfrac{1}{\\sqrt{2}} \\begin{bmatrix} 1 & 1 \\\\ 1 & - 1 \\end{bmatrix}$.\n",
    "\n",
    "$|+> := H|0> \\quad \\& \\quad |-> := H |1>$"
   ]
  },
  {
   "cell_type": "code",
   "execution_count": 12,
   "metadata": {
    "id": "p09ijKAAFRfh",
    "outputId": "c49946d1-c53f-4025-cae3-a84cfeaf60b3"
   },
   "outputs": [
    {
     "data": {
      "image/png": "[encoded data removed]",
      "text/plain": [
       "<Figure size 132.661x84.28 with 1 Axes>"
      ]
     },
     "execution_count": 12,
     "metadata": {},
     "output_type": "execute_result"
    }
   ],
   "source": [
    "quantum_register = QuantumRegister(1, \"x\")\n",
    "\n",
    "quantum_circuit = QuantumCircuit(quantum_register)\n",
    "\n",
    "quantum_circuit.h(0)\n",
    "\n",
    "quantum_circuit.draw(output=\"mpl\")"
   ]
  },
  {
   "cell_type": "markdown",
   "metadata": {
    "id": "L2M4gtJPFRfi"
   },
   "source": [
    "## <b><u>Pauli gates</u></b>"
   ]
  },
  {
   "cell_type": "markdown",
   "metadata": {
    "id": "O2OQQCgrFRfi"
   },
   "source": [
    "<b>(Pauli) $X$ gate</b> (also known as, <b>NOT</b> or <b>bit-flip gate</b>): $X = \\begin{bmatrix} 0 & 1 \\\\ 1 & 0 \\end{bmatrix}$.\n",
    "\n",
    "$X |x> = |x \\oplus 1>$"
   ]
  },
  {
   "cell_type": "markdown",
   "metadata": {
    "id": "8DTY6O7qFRfi"
   },
   "source": [
    "<b>(Pauli) $Z$ gate</b> (also known as the <b>phase-flip gate</b>): $Z = \\begin{bmatrix} 1 & 0 \\\\ 0 & - 1 \\end{bmatrix}$.\n",
    "\n",
    "$Z |x> = (- 1)^x |x>$"
   ]
  },
  {
   "cell_type": "markdown",
   "metadata": {
    "id": "O63gJXBpFRfi"
   },
   "source": [
    "### <b>note:</b>\n",
    "\n",
    "$X |\\pm> = \\pm |\\pm>$ and $Z |\\pm> = |\\mp>$\n",
    "\n",
    "Equivalently: $XH = HZ$ and $ZH = HX$. $H$ is a change-of-base matrix between the eigenbases of $X$ and $Z$."
   ]
  },
  {
   "cell_type": "markdown",
   "metadata": {
    "id": "i6GP1q8_FRfi"
   },
   "source": [
    "<b>(Pauli) $Y$ gate</b> $Y = \\begin{bmatrix} 0 & - i \\\\ i & 0 \\end{bmatrix} = i XZ$.\n",
    "\n",
    "This is less used, but you should still know about."
   ]
  },
  {
   "cell_type": "markdown",
   "metadata": {
    "id": "Mg1hs_NcFRfi",
    "tags": []
   },
   "source": [
    "### <b>note:</b>\n",
    "\n",
    "All Pauli gates, $P \\in \\{ X, Y, Z \\}$, satisfy:\n",
    "\n",
    "$P^\\dagger = P$, $P^2 = \\mathbb{I}$.\n",
    "\n",
    "If $\\sigma_1 := X$, $\\sigma_2 := Y$, and $\\sigma_3 := Z$, then\n",
    "\n",
    "$\\sigma_a \\sigma_b = i \\sum\\limits_{c = 1}^3 \\epsilon_{abc} \\sigma_c$, where $\\epsilon_{abc}$ is the [Levi-Civita symbol](https://en.wikipedia.org/wiki/Levi-Civita_symbol)."
   ]
  },
  {
   "cell_type": "code",
   "execution_count": 20,
   "metadata": {},
   "outputs": [],
   "source": [
    "#XY = iZ, YZ = iX, ZX = iY, YX = -iZ\n",
    "#XX = YY = ZZ = I "
   ]
  },
  {
   "cell_type": "code",
   "execution_count": 13,
   "metadata": {
    "id": "DG8snJ-_FRfi",
    "outputId": "4577f227-61ae-4d35-c3d9-5e5d671f9280"
   },
   "outputs": [
    {
     "data": {
      "image/png": "[encoded data removed]",
      "text/plain": [
       "<Figure size 145.932x204.68 with 1 Axes>"
      ]
     },
     "execution_count": 13,
     "metadata": {},
     "output_type": "execute_result"
    }
   ],
   "source": [
    "quantum_register = QuantumRegister(3, \"x\")\n",
    "\n",
    "quantum_circuit = QuantumCircuit(quantum_register)\n",
    "\n",
    "quantum_circuit.x(quantum_register[0])\n",
    "\n",
    "quantum_circuit.y(quantum_register[1])\n",
    "\n",
    "quantum_circuit.z(quantum_register[2])\n",
    "\n",
    "quantum_circuit.draw(output=\"mpl\")"
   ]
  },
  {
   "cell_type": "code",
   "execution_count": 14,
   "metadata": {},
   "outputs": [
    {
     "data": {
      "image/png": "[encoded data removed]",
      "text/plain": [
       "<Figure size 206.852x144.48 with 1 Axes>"
      ]
     },
     "execution_count": 14,
     "metadata": {},
     "output_type": "execute_result"
    }
   ],
   "source": [
    "qc = QuantumCircuit(2)\n",
    "qc.x(0)\n",
    "qc.x(0)\n",
    "\n",
    "qc.draw(\"mpl\")"
   ]
  },
  {
   "cell_type": "code",
   "execution_count": 15,
   "metadata": {},
   "outputs": [
    {
     "data": {
      "text/latex": [
       "$$ |00\\rangle$$"
      ],
      "text/plain": [
       "<IPython.core.display.Latex object>"
      ]
     },
     "execution_count": 15,
     "metadata": {},
     "output_type": "execute_result"
    }
   ],
   "source": [
    "Statevector(qc).draw(\"Latex\")"
   ]
  },
  {
   "cell_type": "code",
   "execution_count": 16,
   "metadata": {},
   "outputs": [
    {
     "data": {
      "text/plain": [
       "array([[1.+0.j, 0.+0.j, 0.+0.j, 0.+0.j],\n",
       "       [0.+0.j, 1.+0.j, 0.+0.j, 0.+0.j],\n",
       "       [0.+0.j, 0.+0.j, 1.+0.j, 0.+0.j],\n",
       "       [0.+0.j, 0.+0.j, 0.+0.j, 1.+0.j]])"
      ]
     },
     "execution_count": 16,
     "metadata": {},
     "output_type": "execute_result"
    }
   ],
   "source": [
    "Operator(qc).data"
   ]
  },
  {
   "cell_type": "code",
   "execution_count": null,
   "metadata": {},
   "outputs": [],
   "source": [
    "# X = HZH, Z = HXH\n",
    "#Rx = H Rz H, #Rz = H Rx H"
   ]
  },
  {
   "cell_type": "markdown",
   "metadata": {
    "id": "Q6cXTyQRFRfi"
   },
   "source": [
    "## <b><u>General 1-qubit gates</u></b>"
   ]
  },
  {
   "cell_type": "markdown",
   "metadata": {
    "id": "IcaZAj_6FRfj"
   },
   "source": [
    "Every 1-qubit gate is equivalent to one of these:\n",
    "\n",
    "$U(\\theta, \\varphi, \\lambda) = \\begin{bmatrix} \\cos \\left( \\tfrac{\\theta}{2} \\right) & - e^{i \\lambda} \\sin \\left( \\tfrac{\\theta}{2} \\right) \\\\ e^{i \\varphi} \\sin \\left( \\tfrac{\\theta}{2} \\right) & e^{i (\\varphi + \\lambda)} \\cos \\left( \\tfrac{\\theta}{2} \\right) \\end{bmatrix}$,\n",
    "\n",
    "for some $(\\theta, \\varphi, \\lambda) \\in \\left[ 0, 2 \\pi \\right)^3$. See: [Qiskit $U$ gate](https://docs.quantum.ibm.com/api/qiskit/qiskit.circuit.library.UGate)"
   ]
  },
  {
   "cell_type": "code",
   "execution_count": 17,
   "metadata": {
    "id": "Ivo9Bc2vFRfj",
    "outputId": "ec4ea9ef-11fa-4487-b9e9-1124b3034ecc"
   },
   "outputs": [
    {
     "data": {
      "image/png": "[encoded data removed]",
      "text/plain": [
       "<Figure size 132.661x84.28 with 1 Axes>"
      ]
     },
     "execution_count": 17,
     "metadata": {},
     "output_type": "execute_result"
    }
   ],
   "source": [
    "Theta, Phi, Lambda = Parameter(r\"$\\theta$\"), Parameter(r\"$\\varphi$\"), Parameter(r\"$\\lambda$\")\n",
    "\n",
    "\n",
    "quantum_register = QuantumRegister(1, \"x\")\n",
    "\n",
    "quantum_circuit = QuantumCircuit(quantum_register)\n",
    "\n",
    "quantum_circuit.u(Theta, Phi, Lambda, quantum_register[0])\n",
    "\n",
    "quantum_circuit.draw(output=\"mpl\", style=\"bw\")"
   ]
  },
  {
   "cell_type": "markdown",
   "metadata": {
    "id": "oq-sIVx9FRfj"
   },
   "source": [
    "### Remark:\n",
    "\n",
    "$(\\theta, \\varphi, \\lambda)$ is not necessarily unique!\n",
    "\n",
    "For example, $U(0, 0, 0) = U(0, \\varphi, - \\varphi)$, for all $\\varphi$.\n",
    "\n",
    "In case you familiar with Lie groups: The group of all 1-qubit gates is isomorphic to $\\mathrm{SO}(3) \\cong U(2) / (U(1) \\mathrm{I})$.\n",
    "\n",
    "### note:\n",
    "\n",
    "$U (\\theta, \\varphi, \\lambda)^{- 1} = U (\\theta, \\varphi, \\lambda)^\\dagger = U (- \\theta, - \\varphi, - \\lambda)$.\n",
    "\n",
    "### Question:\n",
    "\n",
    "For any $(\\theta_1, \\varphi_1, \\lambda_1), (\\theta_2, \\varphi_2, \\lambda_2)$, compute $(\\theta_3, \\varphi_3, \\lambda_3)$ and $\\mu$, such that\n",
    "\n",
    "$U (\\theta_1, \\varphi_1, \\lambda_1) U (\\theta_2, \\varphi_2, \\lambda_2) = e^{i \\mu} U(\\theta_3, \\varphi_3, \\lambda_3)$."
   ]
  },
  {
   "cell_type": "markdown",
   "metadata": {
    "id": "Wl6HQpG-FRfj"
   },
   "source": [
    "### Task:\n",
    "\n",
    "Find $(\\theta, \\varphi, \\lambda)$ for $H$, $X$, $Y$, and $Z$."
   ]
  },
  {
   "cell_type": "markdown",
   "metadata": {
    "id": "JjpDjKjXFRfj"
   },
   "source": [
    "## <b>Rotations</b>\n",
    "\n",
    "There are 3 \"rotation\" gates:\n",
    "\n",
    "$R_X (\\theta) = \\begin{bmatrix} \\cos \\left( \\tfrac{\\theta}{2} \\right) & - i \\sin \\left( \\tfrac{\\theta}{2} \\right) \\\\ - i \\sin \\left( \\tfrac{\\theta}{2} \\right) & \\cos \\left( \\tfrac{\\theta}{2} \\right) \\end{bmatrix} = \\exp \\left(- i \\tfrac{\\theta}{2} X \\right) = U \\left( \\theta, - \\tfrac{\\pi}{2}, \\tfrac{\\pi}{2} \\right)$,\n",
    "\n",
    "$R_Y (\\theta) = \\begin{bmatrix} \\cos \\left( \\tfrac{\\theta}{2} \\right) & - \\sin \\left( \\tfrac{\\theta}{2} \\right) \\\\ \\sin \\left( \\tfrac{\\theta}{2} \\right) & \\cos \\left( \\tfrac{\\theta}{2} \\right) \\end{bmatrix} = \\exp \\left(- i \\tfrac{\\theta}{2} Y \\right) = U \\left( \\theta, 0, 0 \\right)$.\n",
    "\n",
    "$R_Z (\\theta) = \\begin{bmatrix} e^{- i \\frac{\\theta}{2}} & 0 \\\\ 0 & e^{i \\frac{\\theta}{2}} \\end{bmatrix} = \\exp \\left(- i \\tfrac{\\theta}{2} Z \\right) = e^{- i \\frac{\\theta}{2}} U \\left( 0, 0, \\theta \\right)$."
   ]
  },
  {
   "cell_type": "code",
   "execution_count": 18,
   "metadata": {
    "id": "P_Ph57wrFRfj",
    "outputId": "8060ced8-1719-4b64-972b-3c53896b683a"
   },
   "outputs": [
    {
     "data": {
      "image/png": "[encoded data removed]",
      "text/plain": [
       "<Figure size 145.932x204.68 with 1 Axes>"
      ]
     },
     "execution_count": 18,
     "metadata": {},
     "output_type": "execute_result"
    }
   ],
   "source": [
    "Theta = Parameter(r\"$\\theta$\")\n",
    "\n",
    "quantum_register = QuantumRegister(3, \"x\")\n",
    "\n",
    "quantum_circuit = QuantumCircuit(quantum_register)\n",
    "\n",
    "quantum_circuit.rx(Theta, quantum_register[0])\n",
    "quantum_circuit.ry(Theta, quantum_register[1])\n",
    "quantum_circuit.rz(Theta, quantum_register[2])\n",
    "\n",
    "quantum_circuit.draw(output=\"mpl\", style=\"bw\")"
   ]
  },
  {
   "cell_type": "markdown",
   "metadata": {
    "id": "3ZxA_Ba7FRfj"
   },
   "source": [
    "### Task:\n",
    "\n",
    "Show that $U (\\theta, \\varphi, \\lambda) = e^{i \\frac{\\lambda + \\varphi}{2}} R_Z \\left( \\varphi + \\tfrac{\\pi}{2} \\right) H R_Z (\\theta) H R_Z \\left( \\lambda - \\tfrac{\\pi}{2} \\right)$. In particular, a quantum computer that is \"only\" capable of implementing $H$ and arbitrary angle $Z$-rotations is, in fact, capable of implementing any 1-qubit gates."
   ]
  },
  {
   "cell_type": "markdown",
   "metadata": {
    "id": "TibukyHAFRfk"
   },
   "source": [
    "## <b>Phase gates</b>\n",
    "\n",
    "$P(\\varphi) = \\begin{bmatrix} 1 & 0 \\\\ 0 & e^{i \\varphi} \\end{bmatrix} = e^{- \\frac{i\\varphi}{2}} R_Z (\\varphi)$.\n",
    "\n",
    "Physically same as a $Z$-rotations, but often more convenient to work with. Important special cases:\n",
    "\n",
    "$S = P \\left( \\tfrac{\\pi}{2} \\right) = \\begin{bmatrix} 1 & 0 \\\\ 0 & i \\end{bmatrix}$ and $T = P \\left( \\tfrac{\\pi}{4} \\right) = \\begin{bmatrix} 1 & 0 \\\\ 0 & \\tfrac{1 + i}{\\sqrt{2}} \\end{bmatrix}$.\n",
    "\n",
    "Note that, $S^2 = Z$ and $T^2 = S$."
   ]
  },
  {
   "cell_type": "code",
   "execution_count": 19,
   "metadata": {
    "id": "wgX-m-ozFRfk",
    "outputId": "56fc0089-bb58-4b04-8db2-4ae1255cf6ab"
   },
   "outputs": [
    {
     "data": {
      "image/png": "[encoded data removed]",
      "text/plain": [
       "<Figure size 132.661x84.28 with 1 Axes>"
      ]
     },
     "execution_count": 19,
     "metadata": {},
     "output_type": "execute_result"
    }
   ],
   "source": [
    "Theta = Parameter(r\"$\\theta$\")\n",
    "\n",
    "quantum_register = QuantumRegister(1, \"x\")\n",
    "\n",
    "quantum_circuit = QuantumCircuit(quantum_register)\n",
    "\n",
    "quantum_circuit.p(Theta, quantum_register[0])\n",
    "\n",
    "quantum_circuit.draw(output=\"mpl\", style=\"bw\")"
   ]
  },
  {
   "cell_type": "markdown",
   "metadata": {
    "id": "ZgfICkvmFRfk"
   },
   "source": [
    "## <b><u>Controlled gates</u></b>"
   ]
  },
  {
   "cell_type": "markdown",
   "metadata": {
    "id": "yYRj4MslFRfk"
   },
   "source": [
    "If $U$ is a 1-qubit gates, then the controlled version of $U$, usually called $CU$, is the following 2-qubit gate:\n",
    "\n",
    "$CU |x>|y> = |x> U^x |y> = \\left\\{ \\begin{array}{ll} |x> |y>, & \\mbox{if } x = 0, \\\\ |x> U |y>, & \\mbox{if } x = 1. \\end{array} \\right.$"
   ]
  },
  {
   "cell_type": "markdown",
   "metadata": {
    "id": "Hydv22BqFRfk"
   },
   "source": [
    "### Remark:\n",
    "\n",
    "For any $t \\in \\mathbb{R}$, the 1-qubit gates $U$ and $V := e^{it} U$ are equivalent. However, $CU$ and $CV$ are not!!!"
   ]
  },
  {
   "cell_type": "markdown",
   "metadata": {
    "id": "vQIJivmfFRfk"
   },
   "source": [
    "## <b>CNOT</b>"
   ]
  },
  {
   "cell_type": "markdown",
   "metadata": {
    "id": "3k39BMDKFRfk"
   },
   "source": [
    "(The most important) Example:\n",
    "\n",
    "When $U = X$, $CX$ is also called \"controlled-NOT\" or \"CNOT\":\n",
    "\n",
    "$CX |x>|y> = |x> |x \\oplus y> = \\left\\{ \\begin{array}{ll} |x> |y>, & \\mbox{if } x = 0, \\\\ |x> |1 \\oplus y>, & \\mbox{if } x = 1. \\end{array} \\right.$\n",
    "\n",
    "Its matrix in the computational basis:\n",
    "\n",
    "$[CX] = \\begin{bmatrix} 1 & 0 & 0 & 0 \\\\ 0 & 0 & 0 & 1 \\\\ 0 & 0 & 1 & 0 \\\\ 0 & 1 & 0 & 0 \\end{bmatrix}$."
   ]
  },
  {
   "cell_type": "code",
   "execution_count": null,
   "metadata": {},
   "outputs": [],
   "source": [
    "# use the top circuit as the most significant bit\n",
    "# 1 0 0 0\n",
    "# 0 1 0 0\n",
    "# 0 0 0 1\n",
    "# 0 0 1 0\n",
    "\n",
    "# qiskit convention\n",
    "# CX(a|00> + b|01> + c|10> + d|11>) = a|00> + b|11> + c|10> + d|01>\n",
    "\n",
    "#(a, b, c, d) -> (a, d, c ,b) "
   ]
  },
  {
   "cell_type": "code",
   "execution_count": 20,
   "metadata": {
    "id": "WOit1RccFRfk",
    "outputId": "1a4b1a41-8271-42e0-a79c-f5ad1d92e760"
   },
   "outputs": [
    {
     "name": "stdout",
     "output_type": "stream",
     "text": [
      "[[1 0 0 0]\n",
      " [0 1 0 0]\n",
      " [0 0 0 1]\n",
      " [0 0 1 0]]\n"
     ]
    },
    {
     "data": {
      "image/png": "[encoded data removed]",
      "text/plain": [
       "<Figure size 145.787x144.48 with 1 Axes>"
      ]
     },
     "execution_count": 20,
     "metadata": {},
     "output_type": "execute_result"
    }
   ],
   "source": [
    "quantum_register = QuantumRegister(2, \"x\")\n",
    "\n",
    "quantum_circuit = QuantumCircuit(quantum_register)\n",
    "\n",
    "quantum_circuit.cx(quantum_register[1], quantum_register[0])\n",
    "\n",
    "print(np.real(np.array(Operator(quantum_circuit))).astype(int)) # converting to real integer type just for better readablility\n",
    "\n",
    "quantum_circuit.draw(output=\"mpl\", style=\"bw\")"
   ]
  },
  {
   "cell_type": "markdown",
   "metadata": {
    "id": "yJxkBMjlFRfp"
   },
   "source": [
    "### Algeraic properties\n",
    "\n",
    "$CX^2$ is the identity circuit. Moreover, the following circuit is also trivial!"
   ]
  },
  {
   "cell_type": "code",
   "execution_count": 21,
   "metadata": {
    "id": "szaNgg5gFRfp",
    "outputId": "4d286748-284f-4172-8cd5-dc433f26ed4e"
   },
   "outputs": [
    {
     "name": "stdout",
     "output_type": "stream",
     "text": [
      "[[1 0 0 0 0 0 0 0]\n",
      " [0 1 0 0 0 0 0 0]\n",
      " [0 0 1 0 0 0 0 0]\n",
      " [0 0 0 1 0 0 0 0]\n",
      " [0 0 0 0 1 0 0 0]\n",
      " [0 0 0 0 0 1 0 0]\n",
      " [0 0 0 0 0 0 1 0]\n",
      " [0 0 0 0 0 0 0 1]]\n"
     ]
    },
    {
     "data": {
      "image/png": "[encoded data removed]",
      "text/plain": [
       "<Figure size 386.732x204.68 with 1 Axes>"
      ]
     },
     "execution_count": 21,
     "metadata": {},
     "output_type": "execute_result"
    }
   ],
   "source": [
    "quantum_register = QuantumRegister(3, \"x\")\n",
    "\n",
    "quantum_circuit = QuantumCircuit(quantum_register)\n",
    "\n",
    "quantum_circuit.cx(quantum_register[0], quantum_register[2])\n",
    "quantum_circuit.cx(quantum_register[0], quantum_register[1])\n",
    "quantum_circuit.cx(quantum_register[1], quantum_register[2])\n",
    "quantum_circuit.cx(quantum_register[0], quantum_register[1])\n",
    "quantum_circuit.cx(quantum_register[1], quantum_register[2])\n",
    "\n",
    "print(np.real(np.array(Operator(quantum_circuit))).astype(int)) # converting to real integer type just for better readablility\n",
    "\n",
    "quantum_circuit.draw(output=\"mpl\", style=\"bw\")"
   ]
  },
  {
   "cell_type": "markdown",
   "metadata": {
    "id": "wUIurSgxFRfp"
   },
   "source": [
    "## Note about controls and target:\n",
    "\n",
    "In the computational basis $CX$ \"changes\" the target qubit, but not the control one. However this phenomenon is illusory and in another basis the roles can be reversed. For example, in the $\\{ |++>, |-+>, |+->, |--> \\}$ basis, we have\n",
    "\n",
    "$CX |++> = |++>$,\n",
    "\n",
    "$CX |-+> = |-+>$,\n",
    "\n",
    "$CX |+-> = |-->$,\n",
    "\n",
    "and\n",
    "\n",
    "$CX |--> = |+->$.\n",
    "\n",
    "Thus, now it is \"controlled\" by the second qubit, in the sense that\n",
    "\n",
    "$|\\mathrm{sign}_1 \\mathrm{sign}_2> = \\left\\{ \\begin{array}{ll} |\\mathrm{sign}_1 \\mathrm{sign}_2>, & \\mbox{if } \\mathrm{sign}_2 = +, \\\\ |(- \\mathrm{sign}_1) \\mathrm{sign}_2>, & \\mbox{if } \\mathrm{sign}_2 = -. \\end{array} \\right.$\n",
    "\n"
   ]
  },
  {
   "cell_type": "markdown",
   "metadata": {
    "id": "xtKcPiOtFRfp"
   },
   "source": [
    "### Remark: The controlled version of any 1-qubit gate can be implemented with only 1-qubit and CNOT gates; cf. Figure 4.6. in Nielsen and Chuang.\n",
    "\n",
    "Important example: <b>Controlled-phase gate</b>, $CP(\\theta)$. Its matrix is\n",
    "\n",
    "$[CP(\\theta)] = \\begin{bmatrix} 1 & 0 & 0 & 0 \\\\ 0 & 1 & 0 & 0 \\\\ 0 & 0 & 1 & 0 \\\\ 0 & 0 & 0 & e^{i \\theta} \\end{bmatrix}$.\n",
    "\n",
    "Note that this gate is completely symmetric in the \"controll\" and \"target\" qubits.\n",
    "\n",
    "$CP(\\theta)$ can be decomposed into 2 CNOT gates and 3 phase gates."
   ]
  },
  {
   "cell_type": "code",
   "execution_count": 22,
   "metadata": {
    "colab": {
     "base_uri": "https://localhost:8080/",
     "height": 216
    },
    "id": "FXWF5GpeFRfp",
    "outputId": "ffec7403-7826-41e0-b92b-53e53bd6a7fe"
   },
   "outputs": [
    {
     "data": {
      "image/png": "[encoded data removed]",
      "text/plain": [
       "<Figure size 326.387x144.48 with 1 Axes>"
      ]
     },
     "execution_count": 22,
     "metadata": {},
     "output_type": "execute_result"
    }
   ],
   "source": [
    "Theta = Parameter(r\"$\\theta$\") # https://docs.quantum.ibm.com/api/qiskit/qiskit.circuit.Parameter\n",
    "\n",
    "quantum_register = QuantumRegister(2, \"x\")\n",
    "\n",
    "quantum_circuit = QuantumCircuit(quantum_register)\n",
    "\n",
    "quantum_circuit.cx(quantum_register[0], quantum_register[1])\n",
    "quantum_circuit.p(- Theta / 2, quantum_register[1])\n",
    "quantum_circuit.cx(quantum_register[0], quantum_register[1])\n",
    "quantum_circuit.p(Theta / 2, quantum_register[0])\n",
    "quantum_circuit.p(Theta / 2, quantum_register[1])\n",
    "\n",
    "# assign value to the parameter, define a new circuit bc\n",
    "bc = quantum_circuit.assign_parameters({Theta: np.pi / 2})\n",
    "\n",
    "quantum_circuit.draw(output=\"mpl\", style=\"bw\")"
   ]
  },
  {
   "cell_type": "code",
   "execution_count": 23,
   "metadata": {},
   "outputs": [
    {
     "data": {
      "image/png": "[encoded data removed]",
      "text/plain": [
       "<Figure size 326.387x144.48 with 1 Axes>"
      ]
     },
     "execution_count": 23,
     "metadata": {},
     "output_type": "execute_result"
    }
   ],
   "source": [
    "bc.draw(\"mpl\")"
   ]
  },
  {
   "cell_type": "code",
   "execution_count": 24,
   "metadata": {},
   "outputs": [
    {
     "data": {
      "text/plain": [
       "array([[1.+0.j, 0.+0.j, 0.+0.j, 0.+0.j],\n",
       "       [0.+0.j, 1.+0.j, 0.+0.j, 0.+0.j],\n",
       "       [0.+0.j, 0.+0.j, 1.+0.j, 0.+0.j],\n",
       "       [0.+0.j, 0.+0.j, 0.+0.j, 0.+1.j]])"
      ]
     },
     "execution_count": 24,
     "metadata": {},
     "output_type": "execute_result"
    }
   ],
   "source": [
    "np.round(Operator(bc).data, 3)"
   ]
  },
  {
   "cell_type": "markdown",
   "metadata": {
    "id": "R3ig3ysdFRfp"
   },
   "source": [
    "There also is a direct method to call it, if a decomposition is unnecessary."
   ]
  },
  {
   "cell_type": "code",
   "execution_count": 25,
   "metadata": {
    "id": "05KLZxd0FRfp",
    "outputId": "14e9789c-8abd-48d6-adc4-91405c2c8c0c"
   },
   "outputs": [
    {
     "data": {
      "image/png": "[encoded data removed]",
      "text/plain": [
       "<Figure size 145.787x144.48 with 1 Axes>"
      ]
     },
     "execution_count": 25,
     "metadata": {},
     "output_type": "execute_result"
    }
   ],
   "source": [
    "Theta = Parameter(r\"$\\theta$\")\n",
    "\n",
    "quantum_register = QuantumRegister(2, \"x\")\n",
    "\n",
    "quantum_circuit = QuantumCircuit(quantum_register)\n",
    "\n",
    "quantum_circuit.cp(Theta, quantum_register[0], quantum_register[1])\n",
    "\n",
    "quantum_circuit.draw(output=\"mpl\", style=\"bw\")"
   ]
  },
  {
   "cell_type": "markdown",
   "metadata": {
    "id": "GV36fah8FRfq"
   },
   "source": [
    "## <b>SWAP gate</b>\n",
    "\n",
    "$\\mathrm{SWAP} |xy> = |yx>$.\n",
    "\n",
    "Its matrix on the computational basis is\n",
    "\n",
    "$[\\mathrm{SWAP}] = \\begin{bmatrix} 1 & 0 & 0 & 0 \\\\ 0 & 0 & 1 & 0 \\\\ 0 & 1 & 0 & 0 \\\\ 0 & 0 & 0 & 1 \\end{bmatrix}$."
   ]
  },
  {
   "cell_type": "code",
   "execution_count": 26,
   "metadata": {
    "id": "Dg0qJAR_FRfq",
    "outputId": "5d89d012-653c-4804-939b-ed972d8b9581"
   },
   "outputs": [
    {
     "name": "stdout",
     "output_type": "stream",
     "text": [
      "[[1 0 0 0]\n",
      " [0 0 1 0]\n",
      " [0 1 0 0]\n",
      " [0 0 0 1]]\n"
     ]
    },
    {
     "data": {
      "image/png": "[encoded data removed]",
      "text/plain": [
       "<Figure size 145.787x144.48 with 1 Axes>"
      ]
     },
     "execution_count": 26,
     "metadata": {},
     "output_type": "execute_result"
    }
   ],
   "source": [
    "quantum_register = QuantumRegister(2, \"x\")\n",
    "\n",
    "quantum_circuit = QuantumCircuit(quantum_register)\n",
    "\n",
    "quantum_circuit.swap(quantum_register[0], quantum_register[1])\n",
    "\n",
    "print(np.real(np.array(Operator(quantum_circuit))).astype(int)) # converting to real integer type just for better readablility\n",
    "\n",
    "quantum_circuit.draw(output=\"mpl\", style=\"bw\")"
   ]
  },
  {
   "cell_type": "markdown",
   "metadata": {
    "id": "-OURWV5uFRfq"
   },
   "source": [
    "Show that the swap gate can be implemented with 3 CNOT gates as follows:"
   ]
  },
  {
   "cell_type": "code",
   "execution_count": 27,
   "metadata": {
    "id": "f9EpploBFRfq",
    "outputId": "d5bb2483-dfc5-4473-f557-8be468ba71cd"
   },
   "outputs": [
    {
     "name": "stdout",
     "output_type": "stream",
     "text": [
      "[[1 0 0 0]\n",
      " [0 0 1 0]\n",
      " [0 1 0 0]\n",
      " [0 0 0 1]]\n"
     ]
    },
    {
     "data": {
      "image/png": "[encoded data removed]",
      "text/plain": [
       "<Figure size 266.187x144.48 with 1 Axes>"
      ]
     },
     "execution_count": 27,
     "metadata": {},
     "output_type": "execute_result"
    }
   ],
   "source": [
    "quantum_register = QuantumRegister(2, \"x\")\n",
    "\n",
    "quantum_circuit = QuantumCircuit(quantum_register)\n",
    "\n",
    "quantum_circuit.cx(quantum_register[0], quantum_register[1])\n",
    "quantum_circuit.cx(quantum_register[1], quantum_register[0])\n",
    "quantum_circuit.cx(quantum_register[0], quantum_register[1])\n",
    "\n",
    "print(np.real(np.array(Operator(quantum_circuit))).astype(int)) # converting to real integer type just for better readablility\n",
    "\n",
    "quantum_circuit.draw(output=\"mpl\", style=\"bw\")"
   ]
  },
  {
   "cell_type": "markdown",
   "metadata": {
    "id": "3FhV8zAMFRfq"
   },
   "source": [
    "# Toffoli gate\n",
    "\n",
    "The Toffoli gates is a doubly-controlled $X$ gate, usually denoted as $CCX$:\n",
    "\n",
    "$CCX |x y z> = |x y (xy \\oplus z)>$."
   ]
  },
  {
   "cell_type": "code",
   "execution_count": 28,
   "metadata": {
    "id": "kcd9rLaXFRfq",
    "outputId": "8581f234-802c-4d44-9368-96b1b5726d21"
   },
   "outputs": [
    {
     "name": "stdout",
     "output_type": "stream",
     "text": [
      "[[1 0 0 0 0 0 0 0]\n",
      " [0 1 0 0 0 0 0 0]\n",
      " [0 0 1 0 0 0 0 0]\n",
      " [0 0 0 0 0 0 0 1]\n",
      " [0 0 0 0 1 0 0 0]\n",
      " [0 0 0 0 0 1 0 0]\n",
      " [0 0 0 0 0 0 1 0]\n",
      " [0 0 0 1 0 0 0 0]]\n"
     ]
    },
    {
     "data": {
      "image/png": "[encoded data removed]",
      "text/plain": [
       "<Figure size 145.932x204.68 with 1 Axes>"
      ]
     },
     "execution_count": 28,
     "metadata": {},
     "output_type": "execute_result"
    }
   ],
   "source": [
    "quantum_register = QuantumRegister(3, \"x\")\n",
    "\n",
    "quantum_circuit = QuantumCircuit(quantum_register)\n",
    "\n",
    "quantum_circuit.ccx(quantum_register[0], quantum_register[1], quantum_register[2])\n",
    "\n",
    "print(np.real(np.array(Operator(quantum_circuit))).astype(int)) # converting to real integer type just for better readablility\n",
    "\n",
    "quantum_circuit.draw(output=\"mpl\", style=\"bw\")"
   ]
  },
  {
   "cell_type": "markdown",
   "metadata": {
    "id": "wpvahIbZFRfq"
   },
   "source": [
    "The Toffoli gate can be implemented with $H$, $T$, and CNOT gates."
   ]
  },
  {
   "cell_type": "code",
   "execution_count": 29,
   "metadata": {
    "id": "rc6taX7LFRfq",
    "outputId": "0c1e0eec-d353-46ac-d337-c2ae0e90abde"
   },
   "outputs": [
    {
     "name": "stdout",
     "output_type": "stream",
     "text": [
      "[[1 0 0 0 0 0 0 0]\n",
      " [0 1 0 0 0 0 0 0]\n",
      " [0 0 1 0 0 0 0 0]\n",
      " [0 0 0 0 0 0 0 1]\n",
      " [0 0 0 0 1 0 0 0]\n",
      " [0 0 0 0 0 1 0 0]\n",
      " [0 0 0 0 0 0 1 0]\n",
      " [0 0 0 1 0 0 0 0]]\n"
     ]
    },
    {
     "data": {
      "image/png": "[encoded data removed]",
      "text/plain": [
       "<Figure size 808.132x204.68 with 1 Axes>"
      ]
     },
     "execution_count": 29,
     "metadata": {},
     "output_type": "execute_result"
    }
   ],
   "source": [
    "quantum_register = QuantumRegister(3, \"x\")\n",
    "\n",
    "quantum_circuit = QuantumCircuit(quantum_register)\n",
    "\n",
    "quantum_circuit.h(quantum_register[2])\n",
    "quantum_circuit.cx(quantum_register[1], quantum_register[2])\n",
    "quantum_circuit.tdg(quantum_register[2]) # tdg is the method for the inverse of T\n",
    "quantum_circuit.cx(quantum_register[0], quantum_register[2])\n",
    "quantum_circuit.t(quantum_register[2])\n",
    "quantum_circuit.cx(quantum_register[1], quantum_register[2])\n",
    "quantum_circuit.tdg(quantum_register[2])\n",
    "quantum_circuit.cx(quantum_register[0], quantum_register[2])\n",
    "quantum_circuit.t(quantum_register[2])\n",
    "quantum_circuit.h(quantum_register[2])\n",
    "quantum_circuit.cx(quantum_register[0], quantum_register[1])\n",
    "quantum_circuit.tdg(quantum_register[1])\n",
    "quantum_circuit.cx(quantum_register[0], quantum_register[1])\n",
    "quantum_circuit.t(quantum_register[0])\n",
    "quantum_circuit.t(quantum_register[1])\n",
    "\n",
    "print(np.real(np.round(np.array(Operator(quantum_circuit)), 3)).astype(int)) # converting to real integer type just for better readablility\n",
    "\n",
    "quantum_circuit.draw(output=\"mpl\", style=\"bw\")"
   ]
  },
  {
   "cell_type": "markdown",
   "metadata": {
    "id": "uoLtfChVFRfq"
   },
   "source": [
    "### Task:\n",
    "\n",
    "Simplify the following circuit so that it only has 1-, and 2-qubit gates."
   ]
  },
  {
   "cell_type": "code",
   "execution_count": 33,
   "metadata": {
    "id": "ceDLqN1HFRfq",
    "outputId": "9a6fa2ea-b3c4-49ee-cffa-a3ecad1618e5"
   },
   "outputs": [
    {
     "name": "stdout",
     "output_type": "stream",
     "text": [
      "[[0.+0.j 1.+0.j 0.+0.j 0.+0.j 0.+0.j 0.+0.j 0.+0.j 0.+0.j]\n",
      " [1.+0.j 0.+0.j 0.+0.j 0.+0.j 0.+0.j 0.+0.j 0.+0.j 0.+0.j]\n",
      " [0.+0.j 0.+0.j 0.+0.j 0.+0.j 0.+0.j 0.+0.j 0.+0.j 1.+0.j]\n",
      " [0.+0.j 0.+0.j 0.+0.j 0.+0.j 0.+0.j 0.+0.j 1.+0.j 0.+0.j]\n",
      " [0.+0.j 0.+0.j 0.+0.j 0.+0.j 0.+0.j 1.+0.j 0.+0.j 0.+0.j]\n",
      " [0.+0.j 0.+0.j 0.+0.j 0.+0.j 1.+0.j 0.+0.j 0.+0.j 0.+0.j]\n",
      " [0.+0.j 0.+0.j 0.+0.j 1.+0.j 0.+0.j 0.+0.j 0.+0.j 0.+0.j]\n",
      " [0.+0.j 0.+0.j 1.+0.j 0.+0.j 0.+0.j 0.+0.j 0.+0.j 0.+0.j]]\n"
     ]
    },
    {
     "data": {
      "image/png": "[encoded data removed]",
      "text/plain": [
       "<Figure size 266.332x204.68 with 1 Axes>"
      ]
     },
     "execution_count": 33,
     "metadata": {},
     "output_type": "execute_result"
    }
   ],
   "source": [
    "quantum_register = QuantumRegister(3, \"x\")\n",
    "\n",
    "quantum_circuit = QuantumCircuit(quantum_register)\n",
    "\n",
    "quantum_circuit.ccx(quantum_register[0], quantum_register[1], quantum_register[2])\n",
    "quantum_circuit.x(quantum_register[0])\n",
    "quantum_circuit.ccx(quantum_register[0], quantum_register[1], quantum_register[2])\n",
    "\n",
    "\n",
    "print(Operator(quantum_circuit).data)\n",
    "quantum_circuit.draw(output=\"mpl\", style=\"bw\")"
   ]
  },
  {
   "cell_type": "code",
   "execution_count": 32,
   "metadata": {
    "id": "LTxUX2xsFRfr"
   },
   "outputs": [
    {
     "name": "stdout",
     "output_type": "stream",
     "text": [
      "[[0.+0.j 1.+0.j 0.+0.j 0.+0.j 0.+0.j 0.+0.j 0.+0.j 0.+0.j]\n",
      " [1.+0.j 0.+0.j 0.+0.j 0.+0.j 0.+0.j 0.+0.j 0.+0.j 0.+0.j]\n",
      " [0.+0.j 0.+0.j 0.+0.j 0.+0.j 0.+0.j 0.+0.j 0.+0.j 1.+0.j]\n",
      " [0.+0.j 0.+0.j 0.+0.j 0.+0.j 0.+0.j 0.+0.j 1.+0.j 0.+0.j]\n",
      " [0.+0.j 0.+0.j 0.+0.j 0.+0.j 0.+0.j 1.+0.j 0.+0.j 0.+0.j]\n",
      " [0.+0.j 0.+0.j 0.+0.j 0.+0.j 1.+0.j 0.+0.j 0.+0.j 0.+0.j]\n",
      " [0.+0.j 0.+0.j 0.+0.j 1.+0.j 0.+0.j 0.+0.j 0.+0.j 0.+0.j]\n",
      " [0.+0.j 0.+0.j 1.+0.j 0.+0.j 0.+0.j 0.+0.j 0.+0.j 0.+0.j]]\n"
     ]
    },
    {
     "data": {
      "image/png": "[encoded data removed]",
      "text/plain": [
       "<Figure size 146.797x204.68 with 1 Axes>"
      ]
     },
     "execution_count": 32,
     "metadata": {},
     "output_type": "execute_result"
    }
   ],
   "source": [
    "quantum_circuit = QuantumCircuit(3)\n",
    "quantum_circuit.x(0)\n",
    "quantum_circuit.cx(1,2)\n",
    "\n",
    "print(Operator(quantum_circuit).data)\n",
    "quantum_circuit.draw(output=\"mpl\", style=\"bw\")"
   ]
  }
 ],
 "metadata": {
  "colab": {
   "provenance": []
  },
  "kernelspec": {
   "display_name": "Python 3 (ipykernel)",
   "language": "python",
   "name": "python3"
  },
  "language_info": {
   "codemirror_mode": {
    "name": "ipython",
    "version": 3
   },
   "file_extension": ".py",
   "mimetype": "text/x-python",
   "name": "python",
   "nbconvert_exporter": "python",
   "pygments_lexer": "ipython3",
   "version": "3.9.12"
  }
 },
 "nbformat": 4,
 "nbformat_minor": 4
}
