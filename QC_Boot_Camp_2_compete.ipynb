{
  "cells": [
    {
      "cell_type": "markdown",
      "metadata": {
        "id": "view-in-github",
        "colab_type": "text"
      },
      "source": [
        "<a href=\"https://colab.research.google.com/github/kh-w/quantum-computing-bootcamp-erdos/blob/main/QC_Boot_Camp_2_compete.ipynb\" target=\"_parent\"><img src=\"https://colab.research.google.com/assets/colab-badge.svg\" alt=\"Open In Colab\"/></a>"
      ]
    },
    {
      "cell_type": "code",
      "execution_count": null,
      "metadata": {
        "id": "kDthYM-OI5Hq",
        "colab": {
          "base_uri": "https://localhost:8080/"
        },
        "outputId": "fd3f5856-e224-4a25-a89a-1ac0d1330a64"
      },
      "outputs": [
        {
          "output_type": "stream",
          "name": "stdout",
          "text": [
            "Requirement already satisfied: qiskit in /usr/local/lib/python3.11/dist-packages (2.0.1)\n",
            "Requirement already satisfied: pylatexenc in /usr/local/lib/python3.11/dist-packages (2.10)\n",
            "Requirement already satisfied: rustworkx>=0.15.0 in /usr/local/lib/python3.11/dist-packages (from qiskit) (0.16.0)\n",
            "Requirement already satisfied: numpy<3,>=1.17 in /usr/local/lib/python3.11/dist-packages (from qiskit) (2.0.2)\n",
            "Requirement already satisfied: scipy>=1.5 in /usr/local/lib/python3.11/dist-packages (from qiskit) (1.15.3)\n",
            "Requirement already satisfied: sympy>=1.3 in /usr/local/lib/python3.11/dist-packages (from qiskit) (1.13.1)\n",
            "Requirement already satisfied: dill>=0.3 in /usr/local/lib/python3.11/dist-packages (from qiskit) (0.3.7)\n",
            "Requirement already satisfied: python-dateutil>=2.8.0 in /usr/local/lib/python3.11/dist-packages (from qiskit) (2.9.0.post0)\n",
            "Requirement already satisfied: stevedore>=3.0.0 in /usr/local/lib/python3.11/dist-packages (from qiskit) (5.4.1)\n",
            "Requirement already satisfied: typing-extensions in /usr/local/lib/python3.11/dist-packages (from qiskit) (4.13.2)\n",
            "Requirement already satisfied: symengine<0.14,>=0.11 in /usr/local/lib/python3.11/dist-packages (from qiskit) (0.13.0)\n",
            "Requirement already satisfied: six>=1.5 in /usr/local/lib/python3.11/dist-packages (from python-dateutil>=2.8.0->qiskit) (1.17.0)\n",
            "Requirement already satisfied: pbr>=2.0.0 in /usr/local/lib/python3.11/dist-packages (from stevedore>=3.0.0->qiskit) (6.1.1)\n",
            "Requirement already satisfied: mpmath<1.4,>=1.1.0 in /usr/local/lib/python3.11/dist-packages (from sympy>=1.3->qiskit) (1.3.0)\n",
            "Requirement already satisfied: setuptools in /usr/local/lib/python3.11/dist-packages (from pbr>=2.0.0->stevedore>=3.0.0->qiskit) (75.2.0)\n"
          ]
        }
      ],
      "source": [
        "!pip install qiskit pylatexenc\n",
        "\n",
        "from qiskit.circuit import QuantumCircuit, QuantumRegister, AncillaRegister\n",
        "from qiskit.quantum_info import Statevector, Operator\n",
        "\n",
        "import pylatexenc\n",
        "\n",
        "import matplotlib.pyplot as plt\n",
        "\n",
        "import numpy as np"
      ]
    },
    {
      "cell_type": "markdown",
      "metadata": {
        "id": "7GNihLpE6uY1"
      },
      "source": [
        "# Grover's algorithm\n",
        "\n",
        "Input:\n",
        "\n",
        "$\\ket{s}$: initial state\n",
        "\n",
        "$\\ket{t}$: target state\n",
        "\n",
        "Adjust phases, so that\n",
        "\n",
        "$\\sqrt{\\lambda} := \\braket{s | t} \\in \\mathbb{R}_+$.\n",
        "\n",
        "Then $\\lambda \\in (0, 1)$ is the probability of measuring $\\ket{t}$ in state $\\ket{s}$. Write\n",
        "\n",
        "$$\n",
        "\\ket{s^\\perp} = \\frac{\\ket{t} - \\sqrt{\\lambda} \\ket{s}}{\\sqrt{1 - \\lambda}}.\n",
        "$$\n",
        "\n",
        "Then $\\braket{s^\\perp | s^\\perp} = 1$ and\n",
        "\n",
        "$$\n",
        "\\ket{t^\\perp} := \\sqrt{1 - \\lambda} \\ket{s} - \\sqrt{\\lambda} \\ket{s^\\perp}.\n",
        "$$\n",
        "\n",
        "Assume we have $S$ and $U$, such that\n",
        "\n",
        "$S \\ket{s} = - \\ket{s}$ and $S \\ket{s^\\perp} = \\ket{s^\\perp}$.\n",
        "\n",
        "$U \\ket{t} = - \\ket{t}$ and $U \\ket{t^\\perp} = \\ket{s^\\perp}$.\n",
        "\n",
        "Remark: Their actions on $\\mathrm{span} \\left( \\left\\{ \\ket{s}, \\ket{t} \\right\\} \\right)^\\perp$ is irrelevant.\n",
        "\n",
        "NOTE: $G := S \\circ U$ is a rotation by $\\Theta := 2 \\arcsin \\left( \\sqrt{\\lambda} \\right)$ in the $\\mathrm{span} \\left( \\left\\{ \\ket{s}, \\ket{t} \\right\\} \\right)$ plane (positively oriented)."
      ]
    },
    {
      "cell_type": "markdown",
      "metadata": {
        "id": "kdAum9d26uY3"
      },
      "source": [
        "## Example: Solving Pseudo-boolean equations."
      ]
    },
    {
      "cell_type": "markdown",
      "metadata": {
        "id": "fp3eYWBv6uY4"
      },
      "source": [
        "Let $F: \\mathbb{F}_2^2 \\rightarrow \\mathbb{Z}$ be defined as\n",
        "\n",
        "\\begin{equation}\n",
        "    F(x_0, x_1) = 2 x_0 + x_1.\n",
        "\\end{equation}\n",
        "\n",
        "Our goal is the solve the equation\n",
        "\\begin{equation}\n",
        "    F(x_0, x_1) = 2,\n",
        "\\end{equation}\n",
        "\n",
        "using Grover's algorithm."
      ]
    },
    {
      "cell_type": "markdown",
      "metadata": {
        "id": "E4O31-U96uY6"
      },
      "source": [
        "### Step 1:\n",
        "\n",
        "Check that the following circuit achieves $\\ket{x}_2 \\ket{0}_2 \\mapsto \\ket{x}_2 \\ket{F(x)}$.\n",
        "\n",
        "(More generally, it achieves $\\ket{x}_2 \\ket{y}_2 \\mapsto \\ket{x}_2 \\ket{y + F(x) \\: \\mod \\: 2^2}$)"
      ]
    },
    {
      "cell_type": "code",
      "execution_count": null,
      "metadata": {
        "colab": {
          "base_uri": "https://localhost:8080/",
          "height": 320
        },
        "id": "ZjHcm1fsI9qq",
        "outputId": "cd75d746-e33a-47a8-d03c-49794428be82"
      },
      "outputs": [
        {
          "output_type": "execute_result",
          "data": {
            "text/plain": [
              "<Figure size 369.704x367.889 with 1 Axes>"
            ],
            "image/png": "[encoded data removed]"
          },
          "metadata": {},
          "execution_count": 2
        }
      ],
      "source": [
        "quantum_register = QuantumRegister(size=2, name=\"x\")\n",
        "ancilla_register = AncillaRegister(size=2, name=\"y\")\n",
        "\n",
        "F_adder = QuantumCircuit(quantum_register, ancilla_register, name=\"F(x) adder\")\n",
        "\n",
        "F_adder.cx(quantum_register[0], ancilla_register[1])\n",
        "F_adder.ccx(quantum_register[1], ancilla_register[0], ancilla_register[1])\n",
        "F_adder.cx(quantum_register[1], ancilla_register[0])\n",
        "\n",
        "F_adder.draw(output=\"mpl\", style=\"bw\")"
      ]
    },
    {
      "cell_type": "code",
      "source": [],
      "metadata": {
        "id": "Z8G8QWUMDSLh"
      },
      "execution_count": null,
      "outputs": []
    },
    {
      "cell_type": "markdown",
      "metadata": {
        "id": "SId72P4W6uY7"
      },
      "source": [
        "Let us create the inverse to $F_{adder}$!"
      ]
    },
    {
      "cell_type": "code",
      "execution_count": null,
      "metadata": {
        "colab": {
          "base_uri": "https://localhost:8080/",
          "height": 320
        },
        "id": "Eqb5IHB36uY8",
        "outputId": "2f887fbe-4e83-4f69-d361-51da1079f599"
      },
      "outputs": [
        {
          "output_type": "execute_result",
          "data": {
            "text/plain": [
              "<Figure size 369.704x367.889 with 1 Axes>"
            ],
            "image/png": "[encoded data removed]"
          },
          "metadata": {},
          "execution_count": 3
        }
      ],
      "source": [
        "quantum_register = QuantumRegister(size=2, name=\"x\")\n",
        "ancilla_register = AncillaRegister(size=2, name=\"y\")\n",
        "\n",
        "F_subtractor = QuantumCircuit(quantum_register, ancilla_register, name=\"F(x) subtractor\")\n",
        "\n",
        "### write the rest of the code below\n",
        "\n",
        "F_subtractor.cx(quantum_register[1], ancilla_register[0])\n",
        "F_subtractor.ccx(quantum_register[1], ancilla_register[0], ancilla_register[1])\n",
        "F_subtractor.cx(quantum_register[0], ancilla_register[1])\n",
        "\n",
        "###\n",
        "\n",
        "F_subtractor.draw(output=\"mpl\", style=\"bw\")"
      ]
    },
    {
      "cell_type": "markdown",
      "metadata": {
        "id": "Lsf8ZW-v6uY9"
      },
      "source": [
        "### There is also a quicker way! 'F_subtractor' is the same as 'F_adder.inverse()'"
      ]
    },
    {
      "cell_type": "code",
      "execution_count": null,
      "metadata": {
        "colab": {
          "base_uri": "https://localhost:8080/",
          "height": 320
        },
        "id": "pREUt5LF6uY9",
        "outputId": "62f2ca20-391c-48a3-ab8d-e88cdc03b443"
      },
      "outputs": [
        {
          "output_type": "execute_result",
          "data": {
            "text/plain": [
              "<Figure size 369.704x367.889 with 1 Axes>"
            ],
            "image/png": "[encoded data removed]"
          },
          "metadata": {},
          "execution_count": 4
        }
      ],
      "source": [
        "F_adder.inverse().draw(output=\"mpl\", style=\"bw\")"
      ]
    },
    {
      "cell_type": "code",
      "execution_count": null,
      "metadata": {
        "id": "7TV7RwPK6uY_"
      },
      "outputs": [],
      "source": [
        "A = F_adder.to_gate()\n",
        "Adg = F_subtractor.to_gate()"
      ]
    },
    {
      "cell_type": "code",
      "source": [],
      "metadata": {
        "id": "q96laCjODVtI"
      },
      "execution_count": null,
      "outputs": []
    },
    {
      "cell_type": "markdown",
      "metadata": {
        "id": "xxjJbt9F6uY_"
      },
      "source": [
        "Let $\\ket{t} = \\ket{x_0 x_1}$ be such that $F(x_0, x_1) = 2$.\n",
        "\n",
        "Use $A$ and $A^\\dagger$ (without soliving for $(x_0, x_1) \\in \\mathbb{F}_2^2$) to create the marker oracle, $U$."
      ]
    },
    {
      "cell_type": "markdown",
      "metadata": {
        "id": "e-G7vlF96uZA"
      },
      "source": [
        "Note: 'circuit.compose(A, inplace=True)' applies the gate 'A' to 'circuit'"
      ]
    },
    {
      "cell_type": "code",
      "execution_count": null,
      "metadata": {
        "colab": {
          "base_uri": "https://localhost:8080/",
          "height": 320
        },
        "id": "-vDcxqSE6uZA",
        "outputId": "751d8b49-51a3-4898-ec74-3f7591740e7a"
      },
      "outputs": [
        {
          "output_type": "execute_result",
          "data": {
            "text/plain": [
              "<Figure size 787.759x367.889 with 1 Axes>"
            ],
            "image/png": "[encoded data removed]"
          },
          "metadata": {},
          "execution_count": 6
        }
      ],
      "source": [
        "quantum_register = QuantumRegister(size=2, name=\"x\")\n",
        "ancilla_register = AncillaRegister(size=2, name=\"y\")\n",
        "\n",
        "marker_circuit = QuantumCircuit(quantum_register, ancilla_register, name=\"marker\")\n",
        "\n",
        "### write the rest of the code below\n",
        "\n",
        "marker_circuit.compose(A, inplace=True)\n",
        "\n",
        "marker_circuit.x(ancilla_register[0])\n",
        "marker_circuit.cz(ancilla_register[0], ancilla_register[1])\n",
        "marker_circuit.x(ancilla_register[0])\n",
        "\n",
        "marker_circuit.compose(Adg, inplace=True)\n",
        "\n",
        "###\n",
        "\n",
        "marker_circuit.draw(output=\"mpl\", style=\"bw\")"
      ]
    },
    {
      "cell_type": "markdown",
      "metadata": {
        "id": "SNupXSfU6uZB"
      },
      "source": [
        "Can you simplify the the above circuit?"
      ]
    },
    {
      "cell_type": "markdown",
      "metadata": {
        "id": "MjeqagsT6uZB"
      },
      "source": [
        "## State preparation.\n",
        "\n",
        "Let $\\ket{s} := \\tfrac{1}{2} \\left( \\ket{00} + \\ket{10} + \\ket{01} + \\ket{11} \\right)$.\n",
        "\n",
        "Let us create a circuit, $\\mathrm{Prep}$, that creates this state, that is\n",
        "\n",
        "$\\mathrm{Prep} \\ket{0} = \\ket{s}$."
      ]
    },
    {
      "cell_type": "code",
      "execution_count": null,
      "metadata": {
        "colab": {
          "base_uri": "https://localhost:8080/",
          "height": 191
        },
        "id": "4iW5QYPc6uZB",
        "outputId": "1f49fb17-82bf-402c-9cd9-4cc66be9cdba"
      },
      "outputs": [
        {
          "output_type": "execute_result",
          "data": {
            "text/plain": [
              "<Figure size 202.481x200.667 with 1 Axes>"
            ],
            "image/png": "[encoded data removed]"
          },
          "metadata": {},
          "execution_count": 7
        }
      ],
      "source": [
        "quantum_register = QuantumRegister(size=2, name=\"x\")\n",
        "\n",
        "state_preparation_circuit = QuantumCircuit(quantum_register, name=\"State preparation\")\n",
        "\n",
        "state_preparation_circuit.h(quantum_register)\n",
        "\n",
        "state_preparation_circuit.draw(output=\"mpl\", style=\"bw\")"
      ]
    },
    {
      "cell_type": "code",
      "execution_count": null,
      "metadata": {
        "id": "6gFf91_J6uZD"
      },
      "outputs": [],
      "source": [
        "Prep = state_preparation_circuit.to_gate()"
      ]
    },
    {
      "cell_type": "markdown",
      "metadata": {
        "id": "SZvwVSgo6uZD"
      },
      "source": [
        "## Let's create the \"diffuser\" circtuit, $S$."
      ]
    },
    {
      "cell_type": "code",
      "execution_count": null,
      "metadata": {
        "colab": {
          "base_uri": "https://localhost:8080/",
          "height": 191
        },
        "id": "YdB_wdBD6uZD",
        "outputId": "8649a011-31c5-4f24-c203-af11d70700e1"
      },
      "outputs": [
        {
          "output_type": "execute_result",
          "data": {
            "text/plain": [
              "<Figure size 954.981x200.667 with 1 Axes>"
            ],
            "image/png": "[encoded data removed]"
          },
          "metadata": {},
          "execution_count": 9
        }
      ],
      "source": [
        "quantum_register = QuantumRegister(size=2, name=\"x\")\n",
        "\n",
        "diffuser_circuit = QuantumCircuit(quantum_register, name=\"diffuser\")\n",
        "\n",
        "### write the rest of the code below\n",
        "\n",
        "diffuser_circuit.compose(Prep, inplace=True)\n",
        "\n",
        "diffuser_circuit.x(quantum_register)\n",
        "diffuser_circuit.cz(quantum_register[0], quantum_register[1])\n",
        "diffuser_circuit.x(quantum_register)\n",
        "\n",
        "diffuser_circuit.compose(Prep.inverse(), inplace=True)\n",
        "\n",
        "###\n",
        "\n",
        "diffuser_circuit.draw(output=\"mpl\", style=\"bw\")"
      ]
    },
    {
      "cell_type": "code",
      "execution_count": null,
      "metadata": {
        "id": "tJoe8Yco6uZE"
      },
      "outputs": [],
      "source": [
        "U = marker_circuit.to_gate()\n",
        "D = diffuser_circuit.to_gate()"
      ]
    },
    {
      "cell_type": "markdown",
      "metadata": {
        "id": "wCv-J-US6uZE"
      },
      "source": [
        "What is the number of iteration, $K$, that you will need?"
      ]
    },
    {
      "cell_type": "code",
      "execution_count": null,
      "metadata": {
        "colab": {
          "base_uri": "https://localhost:8080/"
        },
        "id": "wOFuykZR6uZF",
        "outputId": "f2e080c6-6b70-4ae3-deda-d9902cce1fcd"
      },
      "outputs": [
        {
          "output_type": "execute_result",
          "data": {
            "text/plain": [
              "1"
            ]
          },
          "metadata": {},
          "execution_count": 11
        }
      ],
      "source": [
        "N = 2**2\n",
        "K = int(np.rint(np.pi / (4 * np.arcsin(1 / np.sqrt(N))) - 1/2))\n",
        "K"
      ]
    },
    {
      "cell_type": "markdown",
      "metadata": {
        "id": "mgJaoH3a6uZF"
      },
      "source": [
        "# Full Grover circuit\n",
        "\n",
        "Construct the full Grover search circuit and check the probabilities as the end."
      ]
    },
    {
      "cell_type": "code",
      "execution_count": null,
      "metadata": {
        "colab": {
          "base_uri": "https://localhost:8080/",
          "height": 320
        },
        "id": "vsu1-DXX6uZG",
        "outputId": "f93a0f76-fe44-4c96-8927-364cc70296e9"
      },
      "outputs": [
        {
          "output_type": "execute_result",
          "data": {
            "text/plain": [
              "<Figure size 871.37x367.889 with 1 Axes>"
            ],
            "image/png": "[encoded data removed]"
          },
          "metadata": {},
          "execution_count": 12
        }
      ],
      "source": [
        "### Delete this for the students' copy!!!\n",
        "\n",
        "quantum_register = QuantumRegister(size=2, name=\"x\")\n",
        "ancilla_register = AncillaRegister(size=2, name=\"y\")\n",
        "\n",
        "grover_circuit = QuantumCircuit(quantum_register, ancilla_register, name=\"Grover circuit\")\n",
        "\n",
        "### write the rest of the code below\n",
        "\n",
        "grover_circuit.compose(Prep, qubits=quantum_register[:], inplace=True)\n",
        "\n",
        "for _ in range(1):\n",
        "    grover_circuit.barrier()\n",
        "    grover_circuit.compose(U, inplace=True)\n",
        "    grover_circuit.barrier()\n",
        "    grover_circuit.compose(D, qubits=quantum_register[:], inplace=True)\n",
        "\n",
        "###\n",
        "\n",
        "grover_circuit.draw(output=\"mpl\", style=\"bw\")"
      ]
    },
    {
      "cell_type": "code",
      "execution_count": null,
      "metadata": {
        "colab": {
          "base_uri": "https://localhost:8080/"
        },
        "id": "lph9SWA46uZG",
        "outputId": "8ceb79da-b789-4679-ecbd-d6e9fd3bd1e7"
      },
      "outputs": [
        {
          "output_type": "execute_result",
          "data": {
            "text/plain": [
              "array([5.57706021e-34, 1.00000000e+00, 1.59557706e-68, 9.07105347e-35,\n",
              "       0.00000000e+00, 0.00000000e+00, 0.00000000e+00, 0.00000000e+00,\n",
              "       0.00000000e+00, 0.00000000e+00, 0.00000000e+00, 0.00000000e+00,\n",
              "       0.00000000e+00, 0.00000000e+00, 0.00000000e+00, 0.00000000e+00])"
            ]
          },
          "metadata": {},
          "execution_count": 13
        }
      ],
      "source": [
        "psi = Statevector(grover_circuit)\n",
        "psi.probabilities()"
      ]
    },
    {
      "cell_type": "markdown",
      "metadata": {
        "id": "xkZpRqf36uZH"
      },
      "source": [
        "Numerical noise makes it seem messy, so let's simplify:"
      ]
    },
    {
      "cell_type": "code",
      "execution_count": null,
      "metadata": {
        "colab": {
          "base_uri": "https://localhost:8080/"
        },
        "id": "Mfk-1iHM6uZH",
        "outputId": "037858f9-b8c5-486e-c91b-ce4148eef34e"
      },
      "outputs": [
        {
          "output_type": "execute_result",
          "data": {
            "text/plain": [
              "array([0., 1., 0., 0., 0., 0., 0., 0., 0., 0., 0., 0., 0., 0., 0., 0.])"
            ]
          },
          "metadata": {},
          "execution_count": 14
        }
      ],
      "source": [
        "np.round(psi.probabilities(), 4)"
      ]
    },
    {
      "cell_type": "markdown",
      "metadata": {
        "id": "jaF1cCx16uZH"
      },
      "source": [
        "Maximum probability at $\\mathrm{index} = 1$, which is equivalent to $(x_0, x_1) = (1, 0)$, and $F (1, 0) = 2 \\cdot 1 + 0 = 2$."
      ]
    },
    {
      "cell_type": "markdown",
      "metadata": {
        "id": "wRBR-Snn6uZH"
      },
      "source": [
        "# Change in the probability density over the iterations"
      ]
    },
    {
      "cell_type": "code",
      "execution_count": null,
      "metadata": {
        "colab": {
          "base_uri": "https://localhost:8080/"
        },
        "id": "dRogdVjN6uZI",
        "outputId": "8627a879-861e-4f3b-e3cd-a82d955cfe24"
      },
      "outputs": [
        {
          "output_type": "execute_result",
          "data": {
            "text/plain": [
              "12"
            ]
          },
          "metadata": {},
          "execution_count": 15
        }
      ],
      "source": [
        "n = 8\n",
        "N = 2**n\n",
        "K = int(np.rint(np.pi / (4 * np.arcsin(1 / np.sqrt(N))) - 1/2))\n",
        "K"
      ]
    },
    {
      "cell_type": "code",
      "execution_count": null,
      "metadata": {
        "id": "EtX4mWFl6uZI"
      },
      "outputs": [],
      "source": [
        "quantum_register = QuantumRegister(size=n, name=\"x\")\n",
        "\n",
        "grover_circuit = QuantumCircuit(quantum_register, name=\"Grover circuit\")\n",
        "\n",
        "probabilities_over_time = np.zeros((4 * K, N))\n",
        "\n",
        "### write the rest of the code below\n",
        "\n",
        "grover_circuit.h(quantum_register)\n",
        "for idx in range(probabilities_over_time.shape[0]):\n",
        "    grover_circuit.mcp(np.pi, quantum_register[:-1], quantum_register[-1])\n",
        "    grover_circuit.h(quantum_register)\n",
        "    grover_circuit.x(quantum_register)\n",
        "    grover_circuit.mcp(np.pi, quantum_register[:-1], quantum_register[-1])\n",
        "    grover_circuit.x(quantum_register)\n",
        "    grover_circuit.h(quantum_register)\n",
        "    probabilities_over_time[idx] = Statevector(grover_circuit).probabilities()\n",
        "\n",
        "###"
      ]
    },
    {
      "cell_type": "code",
      "execution_count": null,
      "metadata": {
        "colab": {
          "base_uri": "https://localhost:8080/",
          "height": 469
        },
        "id": "T5k0IuIt6uZJ",
        "outputId": "ec452d54-6deb-4636-e996-61ce8af08162"
      },
      "outputs": [
        {
          "output_type": "display_data",
          "data": {
            "text/plain": [
              "<Figure size 1500x500 with 2 Axes>"
            ],
            "image/png": "[encoded data removed]"
          },
          "metadata": {}
        }
      ],
      "source": [
        "iterations = np.arange(1, probabilities_over_time.shape[0] + 1)\n",
        "P_success = probabilities_over_time.T[- 1]\n",
        "\n",
        "fig, axs = plt.subplots(nrows=1, ncols=2, sharey=False, figsize=(15, 5))\n",
        "\n",
        "axs[0].bar(iterations,\n",
        "           P_success,\n",
        "           width=0.5,\n",
        "           color=\"green\")\n",
        "axs[0].set(xlabel=f\"iteration\",\n",
        "           ylabel=f\"probability\")\n",
        "axs[0].axvline(x = iterations[np.argmax(P_success)],\n",
        "               linewidth=1.5,\n",
        "               color=\"black\",\n",
        "               label=r\"Max $P_{success}$\")\n",
        "\n",
        "axs[0].legend(loc='best')\n",
        "\n",
        "axs[1].bar(iterations,\n",
        "           P_success / iterations,\n",
        "           width=0.5,\n",
        "           color=\"green\")\n",
        "axs[1].set(xlabel=f\"iteration\",\n",
        "           ylabel=f\"probability / iteration\")\n",
        "axs[1].axvline(x = iterations[np.argmax(P_success / iterations)],\n",
        "               linewidth=1.5,\n",
        "               color=\"black\",\n",
        "               label=r\"Max $\\frac{P_{success}}{\\mathrm{iteration}}$\")\n",
        "\n",
        "axs[1].legend(loc='best')\n",
        "\n",
        "plt.show()"
      ]
    },
    {
      "cell_type": "markdown",
      "metadata": {
        "id": "fPicMnJM6uZJ"
      },
      "source": [
        "# Quantum Fourier Transform"
      ]
    },
    {
      "cell_type": "markdown",
      "metadata": {
        "id": "96_mIUV66uZJ"
      },
      "source": [
        "$n = 1$ case:"
      ]
    },
    {
      "cell_type": "code",
      "execution_count": null,
      "metadata": {
        "id": "rn-hgAKI6uZJ"
      },
      "outputs": [],
      "source": [
        "n = 1"
      ]
    },
    {
      "cell_type": "code",
      "execution_count": null,
      "metadata": {
        "colab": {
          "base_uri": "https://localhost:8080/",
          "height": 127
        },
        "id": "S53C2hS26uZK",
        "outputId": "30e14555-3d69-4d9f-cdec-8be99074c9db"
      },
      "outputs": [
        {
          "output_type": "execute_result",
          "data": {
            "text/plain": [
              "<Figure size 184.251x117.056 with 1 Axes>"
            ],
            "image/png": "[encoded data removed]"
          },
          "metadata": {},
          "execution_count": 19
        }
      ],
      "source": [
        "quantum_register = QuantumRegister(size=n, name=\"x\")\n",
        "\n",
        "QFT_circuit = QuantumCircuit(quantum_register, name=\"QFT circuit\")\n",
        "\n",
        "QFT_circuit.h(quantum_register)\n",
        "\n",
        "QFT_circuit.draw(output=\"mpl\", style=\"bw\")"
      ]
    },
    {
      "cell_type": "markdown",
      "metadata": {
        "id": "OR1pO0Mc6uZK"
      },
      "source": [
        "$n = 2$ case:"
      ]
    },
    {
      "cell_type": "code",
      "execution_count": null,
      "metadata": {
        "colab": {
          "base_uri": "https://localhost:8080/",
          "height": 191
        },
        "id": "6Ki_mIXE6uZL",
        "outputId": "fac7646a-7b05-467c-aad4-6165f7fdaa4d"
      },
      "outputs": [
        {
          "output_type": "execute_result",
          "data": {
            "text/plain": [
              "<Figure size 536.926x200.667 with 1 Axes>"
            ],
            "image/png": "[encoded data removed]"
          },
          "metadata": {},
          "execution_count": 20
        }
      ],
      "source": [
        "n = 2\n",
        "\n",
        "quantum_register = QuantumRegister(size=n, name=\"x\")\n",
        "\n",
        "QFT_circuit = QuantumCircuit(quantum_register, name=\"QFT circuit\")\n",
        "\n",
        "QFT_circuit.swap(quantum_register[0], quantum_register[1])\n",
        "\n",
        "QFT_circuit.h(quantum_register[0])\n",
        "QFT_circuit.cp(2 * np.pi / 2**2, quantum_register[0], quantum_register[1])\n",
        "QFT_circuit.h(quantum_register[1])\n",
        "\n",
        "QFT_circuit.draw(output=\"mpl\", style=\"bw\")"
      ]
    },
    {
      "cell_type": "markdown",
      "metadata": {
        "id": "mjoMVSl06uZL"
      },
      "source": [
        "$n = 3$ case:"
      ]
    },
    {
      "cell_type": "code",
      "execution_count": null,
      "metadata": {
        "id": "coeDQvyp6uZL"
      },
      "outputs": [],
      "source": []
    },
    {
      "cell_type": "code",
      "execution_count": null,
      "metadata": {
        "colab": {
          "base_uri": "https://localhost:8080/",
          "height": 255
        },
        "id": "bQsQCARj6uZL",
        "outputId": "bf4e47f4-0b2d-400f-ac74-438e8ad34bb1"
      },
      "outputs": [
        {
          "output_type": "execute_result",
          "data": {
            "text/plain": [
              "<Figure size 955.183x284.278 with 1 Axes>"
            ],
            "image/png": "[encoded data removed]"
          },
          "metadata": {},
          "execution_count": 21
        }
      ],
      "source": [
        "n = 3\n",
        "\n",
        "quantum_register = QuantumRegister(size=n, name=\"x\")\n",
        "\n",
        "QFT_circuit = QuantumCircuit(quantum_register, name=\"QFT circuit\")\n",
        "\n",
        "### Delete this for the students' copy!!!\n",
        "\n",
        "QFT_circuit.swap(quantum_register[0], quantum_register[2])\n",
        "\n",
        "QFT_circuit.h(quantum_register[0])\n",
        "QFT_circuit.cp(2 * np.pi / 2**2, quantum_register[0], quantum_register[1])\n",
        "QFT_circuit.cp(2 * np.pi / 2**3, quantum_register[0], quantum_register[2])\n",
        "QFT_circuit.h(quantum_register[1])\n",
        "QFT_circuit.cp(2 * np.pi / 2**2, quantum_register[1], quantum_register[2])\n",
        "QFT_circuit.h(quantum_register[2])\n",
        "\n",
        "###\n",
        "\n",
        "QFT_circuit.draw(output=\"mpl\", style=\"bw\")"
      ]
    },
    {
      "cell_type": "markdown",
      "metadata": {
        "id": "b7DxeoDn6uZM"
      },
      "source": [
        "## Below is an exact implementation using only Hadamard, $CX$, $CP \\left( \\tfrac{\\pi}{2^a} \\right)$, and SWAP gates.\n",
        "\n",
        "(Can you rewrite to only use Hadamard, $R_Z \\left( \\tfrac{\\pi}{2^a} \\right)$, and $CX$ gates?)"
      ]
    },
    {
      "cell_type": "code",
      "execution_count": null,
      "metadata": {
        "id": "9hxnxAXs6uZM"
      },
      "outputs": [],
      "source": [
        "def quantum_fourier_transform(n):\n",
        "    quantum_register = QuantumRegister(size=n, name=\"x\")\n",
        "    QFT_circuit = QuantumCircuit(quantum_register, name=f\"QFT\")\n",
        "\n",
        "    for q, p in zip(quantum_register[:n >> 1], reversed(quantum_register[n >> 1:])):\n",
        "        QFT_circuit.swap(q, p)\n",
        "\n",
        "    for i, q in enumerate(quantum_register, start=1):\n",
        "        QFT_circuit.h(q)\n",
        "        for j, p in enumerate(quantum_register[i:], start=1):\n",
        "            QFT_circuit.cp(np.pi / (1 << j), q, p)\n",
        "\n",
        "    return QFT_circuit\n",
        "\n",
        "def inverse_quantum_fourier_transform(n):\n",
        "    quantum_register = QuantumRegister(size=n, name=\"x\")\n",
        "    inverse_QFT_circuit = QuantumCircuit(quantum_register, name=f\"IQFT\")\n",
        "\n",
        "    for i, q in enumerate(reversed(quantum_register), start=1):\n",
        "        for j, p in enumerate(reversed(quantum_register[n + 1 - i:]), start=1):\n",
        "            inverse_QFT_circuit.cp(- np.pi / (1 << (i - j)), q, p)\n",
        "        inverse_QFT_circuit.h(q)\n",
        "\n",
        "    for q, p in zip(quantum_register[:n >> 1], reversed(quantum_register[n >> 1:])):\n",
        "        inverse_QFT_circuit.swap(q, p)\n",
        "\n",
        "    return inverse_QFT_circuit"
      ]
    },
    {
      "cell_type": "code",
      "execution_count": null,
      "metadata": {
        "colab": {
          "base_uri": "https://localhost:8080/",
          "height": 255
        },
        "id": "n3kFDa-F6uZM",
        "outputId": "36fabff6-dae4-4021-85c8-9a4dbde60cfa"
      },
      "outputs": [
        {
          "output_type": "execute_result",
          "data": {
            "text/plain": [
              "<Figure size 955.183x284.278 with 1 Axes>"
            ],
            "image/png": "[encoded data removed]"
          },
          "metadata": {},
          "execution_count": 23
        }
      ],
      "source": [
        "quantum_fourier_transform(3).draw(output=\"mpl\", style=\"bw\")"
      ]
    },
    {
      "cell_type": "code",
      "execution_count": null,
      "metadata": {
        "colab": {
          "base_uri": "https://localhost:8080/",
          "height": 255
        },
        "id": "5gKIDG3O6uZN",
        "outputId": "3989c0a9-6f2f-4bd1-e315-fafb00569eb0"
      },
      "outputs": [
        {
          "output_type": "execute_result",
          "data": {
            "text/plain": [
              "<Figure size 955.183x284.278 with 1 Axes>"
            ],
            "image/png": "[encoded data removed]"
          },
          "metadata": {},
          "execution_count": 24
        }
      ],
      "source": [
        "inverse_quantum_fourier_transform(3).draw(output=\"mpl\", style=\"bw\")"
      ]
    },
    {
      "cell_type": "markdown",
      "metadata": {
        "id": "W3Ka6aKh6uZN"
      },
      "source": [
        "# Draper's adder circuit"
      ]
    },
    {
      "cell_type": "code",
      "execution_count": null,
      "metadata": {
        "id": "iBc7dUgs6uZN"
      },
      "outputs": [],
      "source": [
        "def quantum_adder(k, n):\n",
        "    quantum_register = QuantumRegister(size=n, name=\"x\")\n",
        "    quantum_adder_circuit = QuantumCircuit(quantum_register, name=f\"{k} adder\")\n",
        "\n",
        "    quantum_adder_circuit.compose(quantum_fourier_transform(n), inplace=True)\n",
        "\n",
        "    quantum_adder_circuit.barrier()\n",
        "\n",
        "    # phaser part\n",
        "    for idx, q in enumerate(reversed(quantum_register)):\n",
        "        quantum_adder_circuit.p(np.pi * k / (1 << idx), q)\n",
        "\n",
        "    quantum_adder_circuit.barrier()\n",
        "\n",
        "    quantum_adder_circuit.compose(inverse_quantum_fourier_transform(n), inplace=True)\n",
        "\n",
        "    return quantum_adder_circuit"
      ]
    },
    {
      "cell_type": "code",
      "execution_count": null,
      "metadata": {
        "colab": {
          "base_uri": "https://localhost:8080/",
          "height": 255
        },
        "id": "7boefoF06uZO",
        "outputId": "f092db80-b9ec-4305-8167-35ff07b4cdb3"
      },
      "outputs": [
        {
          "output_type": "execute_result",
          "data": {
            "text/plain": [
              "<Figure size 2042.13x284.278 with 1 Axes>"
            ],
            "image/png": "[encoded data removed]"
          },
          "metadata": {},
          "execution_count": 26
        }
      ],
      "source": [
        "quantum_adder(1, 3).draw(output=\"mpl\", style=\"bw\")"
      ]
    },
    {
      "cell_type": "code",
      "execution_count": null,
      "metadata": {
        "colab": {
          "base_uri": "https://localhost:8080/"
        },
        "id": "Y2SVzeZb6uZP",
        "outputId": "0a7dbde6-946c-4875-defe-e40561ceb5a1"
      },
      "outputs": [
        {
          "output_type": "execute_result",
          "data": {
            "text/plain": [
              "array([[ 4.29089154e-18+4.59242550e-17j,  0.00000000e+00+7.26199410e-17j,\n",
              "         9.58689626e-18+5.98020428e-17j,  4.90653893e-17+6.12323400e-17j,\n",
              "         8.75576184e-17+4.59242550e-17j,  1.00000000e+00-3.78781641e-16j,\n",
              "        -1.01435406e-16+3.20464672e-17j, -4.90653893e-17+6.12323400e-17j],\n",
              "       [-4.16333634e-17+7.22495334e-17j, -2.63388680e-17+4.30500710e-17j,\n",
              "         0.00000000e+00+7.37968774e-17j,  6.71271230e-18+6.26762267e-17j,\n",
              "         4.16333634e-17-1.10171934e-17j,  1.18187378e-16+4.87984389e-17j,\n",
              "         1.00000000e+00-3.18726237e-16j, -9.85612222e-17+2.91722832e-17j],\n",
              "       [-1.01435406e-16+5.98020428e-17j, -6.86915451e-17+1.00484651e-16j,\n",
              "        -2.34646841e-17+4.59242550e-17j,  1.11022302e-16+6.16299268e-17j,\n",
              "         9.58689626e-18+3.20464672e-17j,  6.86915451e-17+2.19800285e-17j,\n",
              "         1.15313194e-16+4.59242550e-17j,  1.00000000e+00-3.67791627e-16j],\n",
              "       [ 1.00000000e+00-2.48857756e-16j, -9.85612222e-17+2.91722832e-17j,\n",
              "        -8.32667268e-17+2.86059436e-18j, -2.63388680e-17+4.30500710e-17j,\n",
              "         1.11022302e-16+3.92839597e-18j,  6.71271230e-18+6.26762267e-17j,\n",
              "         8.32667268e-17+5.83717456e-17j,  1.18187378e-16+4.87984389e-17j],\n",
              "       [ 8.75576184e-17+4.59242550e-17j,  1.00000000e+00-3.78781641e-16j,\n",
              "        -1.01435406e-16+3.20464672e-17j, -4.90653893e-17+6.12323400e-17j,\n",
              "         4.29089154e-18+4.59242550e-17j,  0.00000000e+00+7.26199410e-17j,\n",
              "         9.58689626e-18+5.98020428e-17j,  4.90653893e-17+6.12323400e-17j],\n",
              "       [ 4.16333634e-17-1.10171934e-17j,  1.18187378e-16+4.87984389e-17j,\n",
              "         1.00000000e+00-3.18726237e-16j, -9.85612222e-17+2.91722832e-17j,\n",
              "        -4.16333634e-17+7.22495334e-17j, -2.63388680e-17+4.30500710e-17j,\n",
              "         0.00000000e+00+7.37968774e-17j,  6.71271230e-18+6.26762267e-17j],\n",
              "       [ 9.58689626e-18+3.20464672e-17j,  6.86915451e-17+2.19800285e-17j,\n",
              "         1.15313194e-16+4.59242550e-17j,  1.00000000e+00-3.67791627e-16j,\n",
              "        -1.01435406e-16+5.98020428e-17j, -6.86915451e-17+1.00484651e-16j,\n",
              "        -2.34646841e-17+4.59242550e-17j,  1.11022302e-16+6.16299268e-17j],\n",
              "       [ 1.11022302e-16+3.92839597e-18j,  6.71271230e-18+6.26762267e-17j,\n",
              "         8.32667268e-17+5.83717456e-17j,  1.18187378e-16+4.87984389e-17j,\n",
              "         1.00000000e+00-2.48857756e-16j, -9.85612222e-17+2.91722832e-17j,\n",
              "        -8.32667268e-17+2.86059436e-18j, -2.63388680e-17+4.30500710e-17j]])"
            ]
          },
          "metadata": {},
          "execution_count": 27
        }
      ],
      "source": [
        "O = Operator(quantum_adder(3, 3)).data\n",
        "O"
      ]
    },
    {
      "cell_type": "markdown",
      "metadata": {
        "id": "kWxb0Jhw6uZP"
      },
      "source": [
        "### Let's get rid of the noise to see that 'O' is indeed the matrix of shift-by-three."
      ]
    },
    {
      "cell_type": "code",
      "execution_count": null,
      "metadata": {
        "colab": {
          "base_uri": "https://localhost:8080/"
        },
        "id": "Mu4tRjzD6uZP",
        "outputId": "8e7c51e5-e44a-442b-ff64-637b28c2dc13"
      },
      "outputs": [
        {
          "output_type": "execute_result",
          "data": {
            "text/plain": [
              "array([[0, 0, 0, 0, 0, 1, 0, 0],\n",
              "       [0, 0, 0, 0, 0, 0, 1, 0],\n",
              "       [0, 0, 0, 0, 0, 0, 0, 1],\n",
              "       [1, 0, 0, 0, 0, 0, 0, 0],\n",
              "       [0, 1, 0, 0, 0, 0, 0, 0],\n",
              "       [0, 0, 1, 0, 0, 0, 0, 0],\n",
              "       [0, 0, 0, 1, 0, 0, 0, 0],\n",
              "       [0, 0, 0, 0, 1, 0, 0, 0]])"
            ]
          },
          "metadata": {},
          "execution_count": 28
        }
      ],
      "source": [
        "np.round(np.real(O)).astype(int)"
      ]
    },
    {
      "cell_type": "code",
      "execution_count": null,
      "metadata": {
        "id": "pW8o8Oto6uZQ"
      },
      "outputs": [],
      "source": []
    }
  ],
  "metadata": {
    "colab": {
      "provenance": [],
      "include_colab_link": true
    },
    "kernelspec": {
      "display_name": "akos",
      "language": "python",
      "name": "python3"
    },
    "language_info": {
      "codemirror_mode": {
        "name": "ipython",
        "version": 3
      },
      "file_extension": ".py",
      "mimetype": "text/x-python",
      "name": "python",
      "nbconvert_exporter": "python",
      "pygments_lexer": "ipython3",
      "version": "3.13.3"
    }
  },
  "nbformat": 4,
  "nbformat_minor": 0
}